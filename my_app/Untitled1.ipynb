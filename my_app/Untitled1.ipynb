{
 "cells": [
  {
   "cell_type": "code",
   "execution_count": 10,
   "metadata": {},
   "outputs": [],
   "source": [
    "import pandas as pd\n",
    "import json\n",
    "from collections import defaultdict\n",
    "from src.feature_engineering import get_overall_nutrition_about_meal"
   ]
  },
  {
   "cell_type": "code",
   "execution_count": 11,
   "metadata": {},
   "outputs": [],
   "source": [
    "df = pd.read_csv(\"recipe.csv\")\n"
   ]
  },
  {
   "cell_type": "code",
   "execution_count": 78,
   "metadata": {},
   "outputs": [
    {
     "data": {
      "text/plain": [
       "\"{'nutrients': [{'title': 'Calories', 'amount': 942.08, 'unit': 'cal', 'percentOfDailyNeeds': 47.1}, {'title': 'Fat', 'amount': 72.72, 'unit': 'g', 'percentOfDailyNeeds': 111.88}, {'title': 'Saturated Fat', 'amount': 9.0, 'unit': 'g', 'percentOfDailyNeeds': 56.25}, {'title': 'Carbohydrates', 'amount': 64.61, 'unit': 'g', 'percentOfDailyNeeds': 21.54}, {'title': 'Sugar', 'amount': 11.09, 'unit': 'g', 'percentOfDailyNeeds': 12.32}, {'title': 'Cholesterol', 'amount': 1.92, 'unit': 'mg', 'percentOfDailyNeeds': 0.64}, {'title': 'Sodium', 'amount': 296.97, 'unit': 'mg', 'percentOfDailyNeeds': 12.91}, {'title': 'Protein', 'amount': 16.51, 'unit': 'g', 'percentOfDailyNeeds': 33.01}, {'title': 'Vitamin A', 'amount': 21572.42, 'unit': 'IU', 'percentOfDailyNeeds': 431.45}, {'title': 'Vitamin E', 'amount': 17.01, 'unit': 'mg', 'percentOfDailyNeeds': 113.39}, {'title': 'Vitamin K', 'amount': 104.27, 'unit': 'µg', 'percentOfDailyNeeds': 99.31}, {'title': 'Manganese', 'amount': 1.03, 'unit': 'mg', 'percentOfDailyNeeds': 51.51}, {'title': 'Fiber', 'amount': 9.99, 'unit': 'g', 'percentOfDailyNeeds': 39.96}, {'title': 'Vitamin C', 'amount': 32.6, 'unit': 'mg', 'percentOfDailyNeeds': 39.51}, {'title': 'Magnesium', 'amount': 122.71, 'unit': 'mg', 'percentOfDailyNeeds': 30.68}, {'title': 'Vitamin B2', 'amount': 0.43, 'unit': 'mg', 'percentOfDailyNeeds': 25.5}, {'title': 'Iron', 'amount': 4.49, 'unit': 'mg', 'percentOfDailyNeeds': 24.92}, {'title': 'Potassium', 'amount': 848.6, 'unit': 'mg', 'percentOfDailyNeeds': 24.25}, {'title': 'Folate', 'amount': 96.54, 'unit': 'µg', 'percentOfDailyNeeds': 24.13}, {'title': 'Phosphorus', 'amount': 223.51, 'unit': 'mg', 'percentOfDailyNeeds': 22.35}, {'title': 'Calcium', 'amount': 207.76, 'unit': 'mg', 'percentOfDailyNeeds': 20.78}, {'title': 'Copper', 'amount': 0.41, 'unit': 'mg', 'percentOfDailyNeeds': 20.31}, {'title': 'Vitamin B3', 'amount': 2.86, 'unit': 'mg', 'percentOfDailyNeeds': 14.31}, {'title': 'Vitamin B6', 'amount': 0.27, 'unit': 'mg', 'percentOfDailyNeeds': 13.74}, {'title': 'Vitamin B1', 'amount': 0.18, 'unit': 'mg', 'percentOfDailyNeeds': 11.93}, {'title': 'Zinc', 'amount': 1.53, 'unit': 'mg', 'percentOfDailyNeeds': 10.22}, {'title': 'Vitamin B5', 'amount': 0.78, 'unit': 'mg', 'percentOfDailyNeeds': 7.79}, {'title': 'Selenium', 'amount': 2.24, 'unit': 'µg', 'percentOfDailyNeeds': 3.2}], 'ingredients': [{'name': 'acini di pepe', 'amount': 1.0, 'unit': 'serving', 'nutrients': [{'name': 'Cholesterol', 'amount': 0.0, 'unit': 'mg'}, {'name': 'Vitamin B6', 'amount': 0.0, 'unit': 'mg'}, {'name': 'Fiber', 'amount': 1.96, 'unit': 'g'}, {'name': 'Potassium', 'amount': 0.0, 'unit': 'mg'}, {'name': 'Mono Unsaturated Fat', 'amount': 0.0, 'unit': 'g'}, {'name': 'Selenium', 'amount': 0.0, 'unit': 'µg'}, {'name': 'Phosphorus', 'amount': 0.0, 'unit': 'mg'}, {'name': 'Carbohydrates', 'amount': 41.44, 'unit': 'g'}, {'name': 'Poly Unsaturated Fat', 'amount': 0.0, 'unit': 'g'}, {'name': 'Caffeine', 'amount': 0.0, 'unit': 'mg'}, {'name': 'Fluoride', 'amount': 0.0, 'unit': 'mg'}, {'name': 'Vitamin D', 'amount': 0.0, 'unit': 'µg'}, {'name': 'Iron', 'amount': 1.81, 'unit': 'mg'}, {'name': 'Alcohol', 'amount': 0.0, 'unit': 'g'}, {'name': 'Sugar', 'amount': 1.96, 'unit': 'g'}, {'name': 'Manganese', 'amount': 0.0, 'unit': 'mg'}, {'name': 'Copper', 'amount': 0.0, 'unit': 'mg'}, {'name': 'Folate', 'amount': 0.0, 'unit': 'µg'}, {'name': 'Sodium', 'amount': 0.0, 'unit': 'mg'}, {'name': 'Zinc', 'amount': 0.0, 'unit': 'mg'}, {'name': 'Calcium', 'amount': 0.0, 'unit': 'mg'}, {'name': 'Vitamin E', 'amount': 0.0, 'unit': 'mg'}, {'name': 'Protein', 'amount': 6.89, 'unit': 'g'}, {'name': 'Calories', 'amount': 197.68, 'unit': 'cal'}, {'name': 'Trans Fat', 'amount': 0.0, 'unit': 'g'}, {'name': 'Vitamin B1', 'amount': 0.0, 'unit': 'mg'}, {'name': 'Vitamin B2', 'amount': 0.0, 'unit': 'mg'}, {'name': 'Vitamin B12', 'amount': 0.0, 'unit': 'µg'}, {'name': 'Fat', 'amount': 1.01, 'unit': 'g'}, {'name': 'Vitamin A', 'amount': 0.0, 'unit': 'IU'}, {'name': 'Vitamin B5', 'amount': 0.0, 'unit': 'mg'}, {'name': 'Vitamin K', 'amount': 0.0, 'unit': 'µg'}, {'name': 'Vitamin C', 'amount': 0.0, 'unit': 'mg'}, {'name': 'Saturated Fat', 'amount': 0.0, 'unit': 'g'}, {'name': 'Vitamin B3', 'amount': 0.0, 'unit': 'mg'}, {'name': 'Magnesium', 'amount': 0.0, 'unit': 'mg'}]}, {'name': 'almonds', 'amount': 1.0, 'unit': 'handful', 'nutrients': [{'name': 'Cholesterol', 'amount': 0.0, 'unit': 'mg'}, {'name': 'Vitamin B6', 'amount': 0.04, 'unit': 'mg'}, {'name': 'Fiber', 'amount': 3.66, 'unit': 'g'}, {'name': 'Potassium', 'amount': 211.5, 'unit': 'mg'}, {'name': 'Mono Unsaturated Fat', 'amount': 9.27, 'unit': 'g'}, {'name': 'Selenium', 'amount': 0.75, 'unit': 'µg'}, {'name': 'Choline', 'amount': 15.63, 'unit': 'mg'}, {'name': 'Phosphorus', 'amount': 145.2, 'unit': 'mg'}, {'name': 'Carbohydrates', 'amount': 6.5, 'unit': 'g'}, {'name': 'Poly Unsaturated Fat', 'amount': 3.62, 'unit': 'g'}, {'name': 'Caffeine', 'amount': 0.0, 'unit': 'mg'}, {'name': 'Vitamin D', 'amount': 0.0, 'unit': 'µg'}, {'name': 'Iron', 'amount': 1.12, 'unit': 'mg'}, {'name': 'Alcohol', 'amount': 0.0, 'unit': 'g'}, {'name': 'Sugar', 'amount': 1.17, 'unit': 'g'}, {'name': 'Manganese', 'amount': 0.69, 'unit': 'mg'}, {'name': 'Copper', 'amount': 0.3, 'unit': 'mg'}, {'name': 'Folate', 'amount': 15.0, 'unit': 'µg'}, {'name': 'Sodium', 'amount': 0.3, 'unit': 'mg'}, {'name': 'Zinc', 'amount': 0.92, 'unit': 'mg'}, {'name': 'Calcium', 'amount': 79.2, 'unit': 'mg'}, {'name': 'Vitamin E', 'amount': 7.87, 'unit': 'mg'}, {'name': 'Folic Acid', 'amount': 0.0, 'unit': 'µg'}, {'name': 'Protein', 'amount': 6.37, 'unit': 'g'}, {'name': 'Calories', 'amount': 172.5, 'unit': 'cal'}, {'name': 'Trans Fat', 'amount': 0.01, 'unit': 'g'}, {'name': 'Vitamin B1', 'amount': 0.06, 'unit': 'mg'}, {'name': 'Vitamin B2', 'amount': 0.3, 'unit': 'mg'}, {'name': 'Vitamin B12', 'amount': 0.0, 'unit': 'µg'}, {'name': 'Fat', 'amount': 14.83, 'unit': 'g'}, {'name': 'Vitamin A', 'amount': 0.3, 'unit': 'IU'}, {'name': 'Vitamin B5', 'amount': 0.14, 'unit': 'mg'}, {'name': 'Vitamin K', 'amount': 0.0, 'unit': 'µg'}, {'name': 'Vitamin C', 'amount': 0.0, 'unit': 'mg'}, {'name': 'Saturated Fat', 'amount': 1.12, 'unit': 'g'}, {'name': 'Vitamin B3', 'amount': 1.02, 'unit': 'mg'}, {'name': 'Magnesium', 'amount': 80.4, 'unit': 'mg'}]}, {'name': 'anchovies', 'amount': 0.8, 'unit': '', 'nutrients': [{'name': 'Cholesterol', 'amount': 1.92, 'unit': 'mg'}, {'name': 'Vitamin B6', 'amount': 0.0, 'unit': 'mg'}, {'name': 'Fiber', 'amount': 0.0, 'unit': 'g'}, {'name': 'Potassium', 'amount': 12.26, 'unit': 'mg'}, {'name': 'Mono Unsaturated Fat', 'amount': 0.04, 'unit': 'g'}, {'name': 'Selenium', 'amount': 1.17, 'unit': 'µg'}, {'name': 'Phosphorus', 'amount': 5.57, 'unit': 'mg'}, {'name': 'Carbohydrates', 'amount': 0.0, 'unit': 'g'}, {'name': 'Poly Unsaturated Fat', 'amount': 0.05, 'unit': 'g'}, {'name': 'Caffeine', 'amount': 0.0, 'unit': 'mg'}, {'name': 'Iron', 'amount': 0.1, 'unit': 'mg'}, {'name': 'Alcohol', 'amount': 0.0, 'unit': 'g'}, {'name': 'Sugar', 'amount': 0.0, 'unit': 'g'}, {'name': 'Manganese', 'amount': 0.0, 'unit': 'mg'}, {'name': 'Copper', 'amount': 0.01, 'unit': 'mg'}, {'name': 'Folate', 'amount': 0.29, 'unit': 'µg'}, {'name': 'Sodium', 'amount': 3.33, 'unit': 'mg'}, {'name': 'Zinc', 'amount': 0.06, 'unit': 'mg'}, {'name': 'Calcium', 'amount': 4.7, 'unit': 'mg'}, {'name': 'Vitamin E', 'amount': 0.02, 'unit': 'mg'}, {'name': 'Folic Acid', 'amount': 0.0, 'unit': 'µg'}, {'name': 'Protein', 'amount': 0.65, 'unit': 'g'}, {'name': 'Calories', 'amount': 4.19, 'unit': 'cal'}, {'name': 'Vitamin B1', 'amount': 0.0, 'unit': 'mg'}, {'name': 'Vitamin B2', 'amount': 0.01, 'unit': 'mg'}, {'name': 'Vitamin B12', 'amount': 0.02, 'unit': 'µg'}, {'name': 'Fat', 'amount': 0.15, 'unit': 'g'}, {'name': 'Vitamin A', 'amount': 1.6, 'unit': 'IU'}, {'name': 'Vitamin B5', 'amount': 0.02, 'unit': 'mg'}, {'name': 'Vitamin K', 'amount': 0.0, 'unit': 'µg'}, {'name': 'Vitamin C', 'amount': 0.0, 'unit': 'mg'}, {'name': 'Saturated Fat', 'amount': 0.04, 'unit': 'g'}, {'name': 'Vitamin B3', 'amount': 0.45, 'unit': 'mg'}, {'name': 'Magnesium', 'amount': 1.31, 'unit': 'mg'}]}, {'name': 'carrots', 'amount': 2.0, 'unit': '', 'nutrients': [{'name': 'Cholesterol', 'amount': 0.0, 'unit': 'mg'}, {'name': 'Vitamin B6', 'amount': 0.17, 'unit': 'mg'}, {'name': 'Fiber', 'amount': 3.42, 'unit': 'g'}, {'name': 'Potassium', 'amount': 390.4, 'unit': 'mg'}, {'name': 'Mono Unsaturated Fat', 'amount': 0.02, 'unit': 'g'}, {'name': 'Selenium', 'amount': 0.12, 'unit': 'µg'}, {'name': 'Choline', 'amount': 10.74, 'unit': 'mg'}, {'name': 'Phosphorus', 'amount': 42.7, 'unit': 'mg'}, {'name': 'Carbohydrates', 'amount': 11.69, 'unit': 'g'}, {'name': 'Poly Unsaturated Fat', 'amount': 0.14, 'unit': 'g'}, {'name': 'Caffeine', 'amount': 0.0, 'unit': 'mg'}, {'name': 'Fluoride', 'amount': 3.9, 'unit': 'mg'}, {'name': 'Vitamin D', 'amount': 0.0, 'unit': 'µg'}, {'name': 'Iron', 'amount': 0.37, 'unit': 'mg'}, {'name': 'Alcohol', 'amount': 0.0, 'unit': 'g'}, {'name': 'Sugar', 'amount': 5.78, 'unit': 'g'}, {'name': 'Manganese', 'amount': 0.17, 'unit': 'mg'}, {'name': 'Copper', 'amount': 0.05, 'unit': 'mg'}, {'name': 'Folate', 'amount': 23.18, 'unit': 'µg'}, {'name': 'Sodium', 'amount': 84.18, 'unit': 'mg'}, {'name': 'Zinc', 'amount': 0.29, 'unit': 'mg'}, {'name': 'Calcium', 'amount': 40.26, 'unit': 'mg'}, {'name': 'Vitamin E', 'amount': 0.81, 'unit': 'mg'}, {'name': 'Folic Acid', 'amount': 0.0, 'unit': 'µg'}, {'name': 'Protein', 'amount': 1.13, 'unit': 'g'}, {'name': 'Calories', 'amount': 50.02, 'unit': 'cal'}, {'name': 'Trans Fat', 'amount': 0.0, 'unit': 'g'}, {'name': 'Vitamin B1', 'amount': 0.08, 'unit': 'mg'}, {'name': 'Vitamin B2', 'amount': 0.07, 'unit': 'mg'}, {'name': 'Vitamin B12', 'amount': 0.0, 'unit': 'µg'}, {'name': 'Fat', 'amount': 0.29, 'unit': 'g'}, {'name': 'Vitamin A', 'amount': 20381.32, 'unit': 'IU'}, {'name': 'Vitamin B5', 'amount': 0.33, 'unit': 'mg'}, {'name': 'Vitamin K', 'amount': 16.1, 'unit': 'µg'}, {'name': 'Vitamin C', 'amount': 7.2, 'unit': 'mg'}, {'name': 'Saturated Fat', 'amount': 0.05, 'unit': 'g'}, {'name': 'Vitamin B3', 'amount': 1.2, 'unit': 'mg'}, {'name': 'Magnesium', 'amount': 14.64, 'unit': 'mg'}]}, {'name': 'cauliflower', 'amount': 1.0, 'unit': 'serving', 'nutrients': [{'name': 'Cholesterol', 'amount': 0.0, 'unit': 'mg'}, {'name': 'Vitamin B6', 'amount': 0.0, 'unit': 'mg'}, {'name': 'Fiber', 'amount': 0.02, 'unit': 'g'}, {'name': 'Potassium', 'amount': 2.99, 'unit': 'mg'}, {'name': 'Mono Unsaturated Fat', 'amount': 0.0, 'unit': 'g'}, {'name': 'Selenium', 'amount': 0.01, 'unit': 'µg'}, {'name': 'Choline', 'amount': 0.44, 'unit': 'mg'}, {'name': 'Phosphorus', 'amount': 0.44, 'unit': 'mg'}, {'name': 'Carbohydrates', 'amount': 0.05, 'unit': 'g'}, {'name': 'Poly Unsaturated Fat', 'amount': 0.0, 'unit': 'g'}, {'name': 'Caffeine', 'amount': 0.0, 'unit': 'mg'}, {'name': 'Fluoride', 'amount': 0.01, 'unit': 'mg'}, {'name': 'Vitamin D', 'amount': 0.0, 'unit': 'µg'}, {'name': 'Iron', 'amount': 0.0, 'unit': 'mg'}, {'name': 'Alcohol', 'amount': 0.0, 'unit': 'g'}, {'name': 'Sugar', 'amount': 0.02, 'unit': 'g'}, {'name': 'Manganese', 'amount': 0.0, 'unit': 'mg'}, {'name': 'Copper', 'amount': 0.0, 'unit': 'mg'}, {'name': 'Folate', 'amount': 0.57, 'unit': 'µg'}, {'name': 'Sodium', 'amount': 0.3, 'unit': 'mg'}, {'name': 'Zinc', 'amount': 0.0, 'unit': 'mg'}, {'name': 'Calcium', 'amount': 0.22, 'unit': 'mg'}, {'name': 'Vitamin E', 'amount': 0.0, 'unit': 'mg'}, {'name': 'Folic Acid', 'amount': 0.0, 'unit': 'µg'}, {'name': 'Protein', 'amount': 0.02, 'unit': 'g'}, {'name': 'Calories', 'amount': 0.25, 'unit': 'cal'}, {'name': 'Trans Fat', 'amount': 0.0, 'unit': 'g'}, {'name': 'Vitamin B1', 'amount': 0.0, 'unit': 'mg'}, {'name': 'Vitamin B2', 'amount': 0.0, 'unit': 'mg'}, {'name': 'Vitamin B12', 'amount': 0.0, 'unit': 'µg'}, {'name': 'Fat', 'amount': 0.0, 'unit': 'g'}, {'name': 'Vitamin A', 'amount': 0.0, 'unit': 'IU'}, {'name': 'Vitamin B5', 'amount': 0.01, 'unit': 'mg'}, {'name': 'Vitamin K', 'amount': 0.16, 'unit': 'µg'}, {'name': 'Vitamin C', 'amount': 0.48, 'unit': 'mg'}, {'name': 'Saturated Fat', 'amount': 0.0, 'unit': 'g'}, {'name': 'Vitamin B3', 'amount': 0.01, 'unit': 'mg'}, {'name': 'Magnesium', 'amount': 0.15, 'unit': 'mg'}]}, {'name': 'extra virgin olive oil', 'amount': 1.0, 'unit': 'serving', 'nutrients': [{'name': 'Cholesterol', 'amount': 0.0, 'unit': 'mg'}, {'name': 'Vitamin B6', 'amount': 0.0, 'unit': 'mg'}, {'name': 'Fiber', 'amount': 0.0, 'unit': 'g'}, {'name': 'Potassium', 'amount': 0.14, 'unit': 'mg'}, {'name': 'Mono Unsaturated Fat', 'amount': 10.21, 'unit': 'g'}, {'name': 'Selenium', 'amount': 0.0, 'unit': 'µg'}, {'name': 'Choline', 'amount': 0.04, 'unit': 'mg'}, {'name': 'Phosphorus', 'amount': 0.0, 'unit': 'mg'}, {'name': 'Carbohydrates', 'amount': 0.0, 'unit': 'g'}, {'name': 'Poly Unsaturated Fat', 'amount': 1.47, 'unit': 'g'}, {'name': 'Caffeine', 'amount': 0.0, 'unit': 'mg'}, {'name': 'Vitamin D', 'amount': 0.0, 'unit': 'µg'}, {'name': 'Iron', 'amount': 0.08, 'unit': 'mg'}, {'name': 'Alcohol', 'amount': 0.0, 'unit': 'g'}, {'name': 'Sugar', 'amount': 0.0, 'unit': 'g'}, {'name': 'Manganese', 'amount': 0.0, 'unit': 'mg'}, {'name': 'Copper', 'amount': 0.0, 'unit': 'mg'}, {'name': 'Folate', 'amount': 0.0, 'unit': 'µg'}, {'name': 'Sodium', 'amount': 0.28, 'unit': 'mg'}, {'name': 'Zinc', 'amount': 0.0, 'unit': 'mg'}, {'name': 'Calcium', 'amount': 0.14, 'unit': 'mg'}, {'name': 'Vitamin E', 'amount': 2.01, 'unit': 'mg'}, {'name': 'Folic Acid', 'amount': 0.0, 'unit': 'µg'}, {'name': 'Protein', 'amount': 0.0, 'unit': 'g'}, {'name': 'Calories', 'amount': 123.76, 'unit': 'cal'}, {'name': 'Vitamin B1', 'amount': 0.0, 'unit': 'mg'}, {'name': 'Vitamin B2', 'amount': 0.0, 'unit': 'mg'}, {'name': 'Vitamin B12', 'amount': 0.0, 'unit': 'µg'}, {'name': 'Fat', 'amount': 14.0, 'unit': 'g'}, {'name': 'Vitamin A', 'amount': 0.0, 'unit': 'IU'}, {'name': 'Vitamin B5', 'amount': 0.0, 'unit': 'mg'}, {'name': 'Vitamin K', 'amount': 8.43, 'unit': 'µg'}, {'name': 'Vitamin C', 'amount': 0.0, 'unit': 'mg'}, {'name': 'Saturated Fat', 'amount': 1.93, 'unit': 'g'}, {'name': 'Vitamin B3', 'amount': 0.0, 'unit': 'mg'}, {'name': 'Magnesium', 'amount': 0.0, 'unit': 'mg'}]}, {'name': 'extra-virgin olive oil', 'amount': 3.0, 'unit': 'Tbs', 'nutrients': [{'name': 'Cholesterol', 'amount': 0.0, 'unit': 'mg'}, {'name': 'Vitamin B6', 'amount': 0.0, 'unit': 'mg'}, {'name': 'Fiber', 'amount': 0.0, 'unit': 'g'}, {'name': 'Potassium', 'amount': 0.42, 'unit': 'mg'}, {'name': 'Mono Unsaturated Fat', 'amount': 30.64, 'unit': 'g'}, {'name': 'Selenium', 'amount': 0.0, 'unit': 'µg'}, {'name': 'Choline', 'amount': 0.13, 'unit': 'mg'}, {'name': 'Phosphorus', 'amount': 0.0, 'unit': 'mg'}, {'name': 'Carbohydrates', 'amount': 0.0, 'unit': 'g'}, {'name': 'Poly Unsaturated Fat', 'amount': 4.42, 'unit': 'g'}, {'name': 'Caffeine', 'amount': 0.0, 'unit': 'mg'}, {'name': 'Vitamin D', 'amount': 0.0, 'unit': 'µg'}, {'name': 'Iron', 'amount': 0.24, 'unit': 'mg'}, {'name': 'Alcohol', 'amount': 0.0, 'unit': 'g'}, {'name': 'Sugar', 'amount': 0.0, 'unit': 'g'}, {'name': 'Manganese', 'amount': 0.0, 'unit': 'mg'}, {'name': 'Copper', 'amount': 0.0, 'unit': 'mg'}, {'name': 'Folate', 'amount': 0.0, 'unit': 'µg'}, {'name': 'Sodium', 'amount': 0.84, 'unit': 'mg'}, {'name': 'Zinc', 'amount': 0.0, 'unit': 'mg'}, {'name': 'Calcium', 'amount': 0.42, 'unit': 'mg'}, {'name': 'Vitamin E', 'amount': 6.03, 'unit': 'mg'}, {'name': 'Folic Acid', 'amount': 0.0, 'unit': 'µg'}, {'name': 'Protein', 'amount': 0.0, 'unit': 'g'}, {'name': 'Calories', 'amount': 371.28, 'unit': 'cal'}, {'name': 'Vitamin B1', 'amount': 0.0, 'unit': 'mg'}, {'name': 'Vitamin B2', 'amount': 0.0, 'unit': 'mg'}, {'name': 'Vitamin B12', 'amount': 0.0, 'unit': 'µg'}, {'name': 'Fat', 'amount': 42.0, 'unit': 'g'}, {'name': 'Vitamin A', 'amount': 0.0, 'unit': 'IU'}, {'name': 'Vitamin B5', 'amount': 0.0, 'unit': 'mg'}, {'name': 'Vitamin K', 'amount': 25.28, 'unit': 'µg'}, {'name': 'Vitamin C', 'amount': 0.0, 'unit': 'mg'}, {'name': 'Saturated Fat', 'amount': 5.8, 'unit': 'g'}, {'name': 'Vitamin B3', 'amount': 0.0, 'unit': 'mg'}, {'name': 'Magnesium', 'amount': 0.0, 'unit': 'mg'}]}, {'name': 'lemon juice', 'amount': 3.0, 'unit': 'Tbs', 'nutrients': [{'name': 'Cholesterol', 'amount': 0.0, 'unit': 'mg'}, {'name': 'Vitamin B6', 'amount': 0.02, 'unit': 'mg'}, {'name': 'Fiber', 'amount': 0.14, 'unit': 'g'}, {'name': 'Potassium', 'amount': 46.35, 'unit': 'mg'}, {'name': 'Mono Unsaturated Fat', 'amount': 0.0, 'unit': 'g'}, {'name': 'Selenium', 'amount': 0.05, 'unit': 'µg'}, {'name': 'Choline', 'amount': 2.3, 'unit': 'mg'}, {'name': 'Phosphorus', 'amount': 3.6, 'unit': 'mg'}, {'name': 'Carbohydrates', 'amount': 3.11, 'unit': 'g'}, {'name': 'Poly Unsaturated Fat', 'amount': 0.01, 'unit': 'g'}, {'name': 'Caffeine', 'amount': 0.0, 'unit': 'mg'}, {'name': 'Vitamin D', 'amount': 0.0, 'unit': 'µg'}, {'name': 'Iron', 'amount': 0.04, 'unit': 'mg'}, {'name': 'Alcohol', 'amount': 0.0, 'unit': 'g'}, {'name': 'Sugar', 'amount': 1.13, 'unit': 'g'}, {'name': 'Manganese', 'amount': 0.01, 'unit': 'mg'}, {'name': 'Copper', 'amount': 0.01, 'unit': 'mg'}, {'name': 'Folate', 'amount': 9.0, 'unit': 'µg'}, {'name': 'Sodium', 'amount': 0.45, 'unit': 'mg'}, {'name': 'Zinc', 'amount': 0.02, 'unit': 'mg'}, {'name': 'Calcium', 'amount': 2.7, 'unit': 'mg'}, {'name': 'Vitamin E', 'amount': 0.07, 'unit': 'mg'}, {'name': 'Folic Acid', 'amount': 0.0, 'unit': 'µg'}, {'name': 'Protein', 'amount': 0.16, 'unit': 'g'}, {'name': 'Calories', 'amount': 9.9, 'unit': 'cal'}, {'name': 'Trans Fat', 'amount': 0.0, 'unit': 'g'}, {'name': 'Vitamin B1', 'amount': 0.01, 'unit': 'mg'}, {'name': 'Vitamin B2', 'amount': 0.01, 'unit': 'mg'}, {'name': 'Vitamin B12', 'amount': 0.0, 'unit': 'µg'}, {'name': 'Fat', 'amount': 0.11, 'unit': 'g'}, {'name': 'Vitamin A', 'amount': 2.7, 'unit': 'IU'}, {'name': 'Vitamin B5', 'amount': 0.06, 'unit': 'mg'}, {'name': 'Vitamin K', 'amount': 0.0, 'unit': 'µg'}, {'name': 'Vitamin C', 'amount': 17.42, 'unit': 'mg'}, {'name': 'Saturated Fat', 'amount': 0.02, 'unit': 'g'}, {'name': 'Vitamin B3', 'amount': 0.04, 'unit': 'mg'}, {'name': 'Magnesium', 'amount': 2.7, 'unit': 'mg'}]}, {'name': 'rocket', 'amount': 50.0, 'unit': 'gr', 'nutrients': [{'name': 'Cholesterol', 'amount': 0.0, 'unit': 'mg'}, {'name': 'Vitamin B6', 'amount': 0.04, 'unit': 'mg'}, {'name': 'Fiber', 'amount': 0.8, 'unit': 'g'}, {'name': 'Potassium', 'amount': 184.5, 'unit': 'mg'}, {'name': 'Mono Unsaturated Fat', 'amount': 0.02, 'unit': 'g'}, {'name': 'Selenium', 'amount': 0.15, 'unit': 'µg'}, {'name': 'Choline', 'amount': 7.65, 'unit': 'mg'}, {'name': 'Phosphorus', 'amount': 26.0, 'unit': 'mg'}, {'name': 'Carbohydrates', 'amount': 1.83, 'unit': 'g'}, {'name': 'Poly Unsaturated Fat', 'amount': 0.16, 'unit': 'g'}, {'name': 'Caffeine', 'amount': 0.0, 'unit': 'mg'}, {'name': 'Vitamin D', 'amount': 0.0, 'unit': 'µg'}, {'name': 'Iron', 'amount': 0.73, 'unit': 'mg'}, {'name': 'Alcohol', 'amount': 0.0, 'unit': 'g'}, {'name': 'Sugar', 'amount': 1.02, 'unit': 'g'}, {'name': 'Manganese', 'amount': 0.16, 'unit': 'mg'}, {'name': 'Copper', 'amount': 0.04, 'unit': 'mg'}, {'name': 'Folate', 'amount': 48.5, 'unit': 'µg'}, {'name': 'Sodium', 'amount': 13.5, 'unit': 'mg'}, {'name': 'Zinc', 'amount': 0.24, 'unit': 'mg'}, {'name': 'Calcium', 'amount': 80.0, 'unit': 'mg'}, {'name': 'Vitamin E', 'amount': 0.22, 'unit': 'mg'}, {'name': 'Folic Acid', 'amount': 0.0, 'unit': 'µg'}, {'name': 'Protein', 'amount': 1.29, 'unit': 'g'}, {'name': 'Calories', 'amount': 12.5, 'unit': 'cal'}, {'name': 'Vitamin B1', 'amount': 0.02, 'unit': 'mg'}, {'name': 'Vitamin B2', 'amount': 0.04, 'unit': 'mg'}, {'name': 'Vitamin B12', 'amount': 0.0, 'unit': 'µg'}, {'name': 'Fat', 'amount': 0.33, 'unit': 'g'}, {'name': 'Vitamin A', 'amount': 1186.5, 'unit': 'IU'}, {'name': 'Vitamin B5', 'amount': 0.22, 'unit': 'mg'}, {'name': 'Vitamin K', 'amount': 54.3, 'unit': 'µg'}, {'name': 'Vitamin C', 'amount': 7.5, 'unit': 'mg'}, {'name': 'Saturated Fat', 'amount': 0.04, 'unit': 'g'}, {'name': 'Vitamin B3', 'amount': 0.15, 'unit': 'mg'}, {'name': 'Magnesium', 'amount': 23.5, 'unit': 'mg'}]}, {'name': 'salt and pepper', 'amount': 1.0, 'unit': 'serving', 'nutrients': [{'name': 'Cholesterol', 'amount': 0.0, 'unit': 'mg'}, {'name': 'Vitamin B6', 'amount': 0.0, 'unit': 'mg'}, {'name': 'Fiber', 'amount': 0.0, 'unit': 'g'}, {'name': 'Potassium', 'amount': 0.04, 'unit': 'mg'}, {'name': 'Mono Unsaturated Fat', 'amount': 0.0, 'unit': 'g'}, {'name': 'Selenium', 'amount': 0.0, 'unit': 'µg'}, {'name': 'Choline', 'amount': 0.0, 'unit': 'mg'}, {'name': 'Phosphorus', 'amount': 0.0, 'unit': 'mg'}, {'name': 'Carbohydrates', 'amount': 0.0, 'unit': 'g'}, {'name': 'Poly Unsaturated Fat', 'amount': 0.0, 'unit': 'g'}, {'name': 'Caffeine', 'amount': 0.0, 'unit': 'mg'}, {'name': 'Fluoride', 'amount': 0.01, 'unit': 'mg'}, {'name': 'Vitamin D', 'amount': 0.0, 'unit': 'µg'}, {'name': 'Iron', 'amount': 0.0, 'unit': 'mg'}, {'name': 'Alcohol', 'amount': 0.0, 'unit': 'g'}, {'name': 'Sugar', 'amount': 0.0, 'unit': 'g'}, {'name': 'Manganese', 'amount': 0.0, 'unit': 'mg'}, {'name': 'Copper', 'amount': 0.0, 'unit': 'mg'}, {'name': 'Folate', 'amount': 0.0, 'unit': 'µg'}, {'name': 'Sodium', 'amount': 193.79, 'unit': 'mg'}, {'name': 'Zinc', 'amount': 0.0, 'unit': 'mg'}, {'name': 'Calcium', 'amount': 0.12, 'unit': 'mg'}, {'name': 'Vitamin E', 'amount': 0.0, 'unit': 'mg'}, {'name': 'Folic Acid', 'amount': 0.0, 'unit': 'µg'}, {'name': 'Protein', 'amount': 0.0, 'unit': 'g'}, {'name': 'Calories', 'amount': 0.0, 'unit': 'cal'}, {'name': 'Vitamin B1', 'amount': 0.0, 'unit': 'mg'}, {'name': 'Vitamin B2', 'amount': 0.0, 'unit': 'mg'}, {'name': 'Vitamin B12', 'amount': 0.0, 'unit': 'µg'}, {'name': 'Fat', 'amount': 0.0, 'unit': 'g'}, {'name': 'Vitamin A', 'amount': 0.0, 'unit': 'IU'}, {'name': 'Vitamin B5', 'amount': 0.0, 'unit': 'mg'}, {'name': 'Vitamin K', 'amount': 0.0, 'unit': 'µg'}, {'name': 'Vitamin C', 'amount': 0.0, 'unit': 'mg'}, {'name': 'Saturated Fat', 'amount': 0.0, 'unit': 'g'}, {'name': 'Vitamin B3', 'amount': 0.0, 'unit': 'mg'}, {'name': 'Magnesium', 'amount': 0.01, 'unit': 'mg'}]}], 'caloricBreakdown': {'percentProtein': 6.74, 'percentFat': 66.86, 'percentCarbs': 26.4}}\""
      ]
     },
     "execution_count": 78,
     "metadata": {},
     "output_type": "execute_result"
    }
   ],
   "source": [
    "df['nutrition'].head()[0]"
   ]
  },
  {
   "cell_type": "code",
   "execution_count": 12,
   "metadata": {},
   "outputs": [],
   "source": [
    "def temp_func(x, df):\n",
    "    recipe = x['nutrition'].apply(lambda x: json.loads(x.replace('\\'', '\\\"').replace('\\\"s ', '\\'s '))['ingredients'])\n",
    "    keys = [] \n",
    "    for ingredient in ingredients:\n",
    "        for key in ingredient.keys():\n",
    "            if key == 'nutrients':\n",
    "                for nut in ingredient[key]:\n",
    "                    amount = nut['amount']\n",
    "                    name = nut['name']\n",
    "                    unit = nut['unit']\n",
    "                    keys.append()\n",
    "            \n",
    "            else:\n",
    "                keys.append(key)\n",
    "        \n",
    "        "
   ]
  },
  {
   "cell_type": "code",
   "execution_count": 13,
   "metadata": {},
   "outputs": [],
   "source": [
    "new_df =df.apply(lambda x: json.loads(x['nutrition'].replace('\\'', '\\\"').replace('\\\"s ', '\\'s '))['ingredients'], axis=1)"
   ]
  },
  {
   "cell_type": "code",
   "execution_count": 14,
   "metadata": {},
   "outputs": [],
   "source": [
    "def map_ingredient_keys(panda_columns, mapping):\n",
    "    result = []\n",
    "    for key in panda_columns:\n",
    "        result.append(mapping.get(key))\n",
    "    return result\n",
    "    "
   ]
  },
  {
   "cell_type": "code",
   "execution_count": 15,
   "metadata": {},
   "outputs": [],
   "source": [
    "vs = []\n",
    "keys = []\n",
    "for recipe in new_df: \n",
    "    for entry in recipe:\n",
    "        values = []\n",
    "        amount = entry['amount']\n",
    "        name = entry['name']\n",
    "        unit = entry['unit']\n",
    "        keys = [\"name\", \"amount\", \"unit\"]\n",
    "        values = [name, amount, unit]\n",
    "        nutrients = entry['nutrients']\n",
    "        k1, v1 = nutrient_info(nutrients)\n",
    "        keys += k1\n",
    "        values += v1\n",
    "        vs.append(values)\n",
    "\n",
    "\n",
    "vs = []\n",
    "for recipe in new_df:\n",
    "    \n",
    "    for entry in recipe:\n",
    "        amount = entry['amount']\n",
    "        name = entry['name']\n",
    "        unit = entry['unit']\n",
    "        nk = [\"name\", \"amount\", \"unit\"]\n",
    "        nv = [name, amount, unit]\n",
    "        nutrients = entry['nutrients']\n",
    "        k1, v1 = nutrient_info(nutrients)\n",
    "        nk += k1\n",
    "        nv += v1\n",
    "        result = dict(zip(nk,nv))\n",
    "\n",
    "        vs.append(map_ingredient_keys(keys, result))\n",
    "\n",
    "df2 = pd.DataFrame(vs, columns=keys)      "
   ]
  },
  {
   "cell_type": "code",
   "execution_count": 75,
   "metadata": {},
   "outputs": [],
   "source": [
    "def clean_units(df):\n",
    "    new_df = df.copy()\n",
    "    result = new_df['unit']\n",
    "    result = result.replace([\"tbsps\", \"tbs\", \"tb\", \"tbsp\", \"tablespoon\",\"Tbsps\",\"Tbs\",\"T\",\"Tb\"], \"tablespoons\" )\n",
    "    result = result.replace([\"teaspoon\", \"t\", \"tsps\",\"tsp\"],\"teaspoons\" )\n",
    "    result = result.replace([\"oz\", \"ounce\", \"ozs\",\"fluid ounces\"], \"ounces\" )\n",
    "    result = result.replace([\"cup\", \"c\"], \"cups\" )\n",
    "    return result\n",
    "     "
   ]
  },
  {
   "cell_type": "code",
   "execution_count": 84,
   "metadata": {},
   "outputs": [
    {
     "data": {
      "text/plain": [
       "1258"
      ]
     },
     "execution_count": 84,
     "metadata": {},
     "output_type": "execute_result"
    }
   ],
   "source": [
    "len(df2.groupby('name').count())"
   ]
  },
  {
   "cell_type": "code",
   "execution_count": 76,
   "metadata": {},
   "outputs": [
    {
     "data": {
      "text/plain": [
       "               1930\n",
       "cups           1553\n",
       "tablespoons    1549\n",
       "servings       1308\n",
       "teaspoons      1057\n",
       "ounces          447\n",
       "fillet          435\n",
       "Tbsp            188\n",
       "g               173\n",
       "pound           162\n",
       "serving         160\n",
       "lb              147\n",
       "cloves          140\n",
       "clove            78\n",
       "slices           66\n",
       "pounds           65\n",
       "bunch            63\n",
       "handful          62\n",
       "pinch            54\n",
       "head             47\n",
       "sprigs           43\n",
       "ml               38\n",
       "lbs              38\n",
       "heads            38\n",
       "inch             23\n",
       "leaves           18\n",
       "bunches          17\n",
       "handfuls         16\n",
       "can              14\n",
       "kg               11\n",
       "               ... \n",
       "jar               1\n",
       "packages          1\n",
       "container         1\n",
       "Head              1\n",
       "mLs               1\n",
       "squares           1\n",
       "pt                1\n",
       "Sprigs            1\n",
       "inchsheets        1\n",
       "fillets           1\n",
       "Bunch             1\n",
       "liters            1\n",
       "Strip             1\n",
       "quart             1\n",
       "milliliters       1\n",
       "Piece             1\n",
       "of                1\n",
       "liter             1\n",
       "Heads             1\n",
       "sticks            1\n",
       "6-inch            1\n",
       "bag               1\n",
       "Cloves            1\n",
       "knobs             1\n",
       "package           1\n",
       "Slices            1\n",
       "packet            1\n",
       "bottle            1\n",
       "L                 1\n",
       "kilogram          1\n",
       "Name: unit, Length: 101, dtype: int64"
      ]
     },
     "execution_count": 76,
     "metadata": {},
     "output_type": "execute_result"
    }
   ],
   "source": [
    "clean_units(df2).value_counts()"
   ]
  },
  {
   "cell_type": "code",
   "execution_count": 16,
   "metadata": {},
   "outputs": [
    {
     "data": {
      "text/plain": [
       "olive oil                   695\n",
       "anchovy                     368\n",
       "garlic                      273\n",
       "lemon juice                 225\n",
       "garlic cloves               224\n",
       "capers                      218\n",
       "salt                        189\n",
       "anchovies                   169\n",
       "salt and pepper             164\n",
       "black pepper                136\n",
       "kosher salt                 134\n",
       "garlic clove                114\n",
       "extra virgin olive oil      107\n",
       "parsley                     105\n",
       "pepper                       99\n",
       "dijon mustard                94\n",
       "red wine vinegar             89\n",
       "parmesan cheese              85\n",
       "lemon zest                   82\n",
       "water                        80\n",
       "unsalted butter              73\n",
       "juice of lemon               68\n",
       "olives                       67\n",
       "onion                        66\n",
       "coarse salt                  65\n",
       "butter                       63\n",
       "red onion                    63\n",
       "red pepper flakes            62\n",
       "tomatoes                     57\n",
       "flour                        54\n",
       "                           ... \n",
       "yellow peppers                1\n",
       "dried shiitake mushrooms      1\n",
       "artichoke                     1\n",
       "dried chilli                  1\n",
       "macaroni                      1\n",
       "osso buco                     1\n",
       "mince beef                    1\n",
       "pinot noir                    1\n",
       "frozen corn                   1\n",
       "navel orange                  1\n",
       "nutritional yeast             1\n",
       "breadcrumb                    1\n",
       "sea bass filets               1\n",
       "ravioli                       1\n",
       "turmeric powder               1\n",
       "wakame                        1\n",
       "lean pork tenderloin          1\n",
       "okra                          1\n",
       "chilean seabass               1\n",
       "edam cheese                   1\n",
       "mixed mushrooms               1\n",
       "nori                          1\n",
       "mortadella                    1\n",
       "marsala wine                  1\n",
       "jerusalem artichokes          1\n",
       "cherries                      1\n",
       "sardines                      1\n",
       "wondra flour                  1\n",
       "buttery rounds                1\n",
       "pineapple preserves           1\n",
       "Name: name, Length: 1258, dtype: int64"
      ]
     },
     "execution_count": 16,
     "metadata": {},
     "output_type": "execute_result"
    }
   ],
   "source": [
    "df2['name'].value_counts()"
   ]
  },
  {
   "cell_type": "code",
   "execution_count": 17,
   "metadata": {},
   "outputs": [
    {
     "data": {
      "text/plain": [
       "{75}"
      ]
     },
     "execution_count": 17,
     "metadata": {},
     "output_type": "execute_result"
    }
   ],
   "source": [
    "lean = set()\n",
    "for v in vs:\n",
    "    lean.add(len(v))\n",
    "lean"
   ]
  },
  {
   "cell_type": "code",
   "execution_count": 18,
   "metadata": {},
   "outputs": [
    {
     "data": {
      "text/plain": [
       "0     anchovies\n",
       "1           0.8\n",
       "2              \n",
       "3            mg\n",
       "4          1.92\n",
       "5            mg\n",
       "6             0\n",
       "7             g\n",
       "8             0\n",
       "9            mg\n",
       "10        12.26\n",
       "11            g\n",
       "12         0.04\n",
       "13           µg\n",
       "14         1.17\n",
       "15         None\n",
       "16          NaN\n",
       "17           mg\n",
       "18         5.57\n",
       "19            g\n",
       "20            0\n",
       "21            g\n",
       "22         0.05\n",
       "23           mg\n",
       "24            0\n",
       "25         None\n",
       "26          NaN\n",
       "27           mg\n",
       "28          0.1\n",
       "29            g\n",
       "        ...    \n",
       "45           mg\n",
       "46         0.02\n",
       "47           µg\n",
       "48            0\n",
       "49            g\n",
       "50         0.65\n",
       "51          cal\n",
       "52         4.19\n",
       "53           mg\n",
       "54            0\n",
       "55           mg\n",
       "56         0.01\n",
       "57           µg\n",
       "58         0.02\n",
       "59            g\n",
       "60         0.15\n",
       "61           IU\n",
       "62          1.6\n",
       "63           mg\n",
       "64         0.02\n",
       "65           µg\n",
       "66            0\n",
       "67           mg\n",
       "68            0\n",
       "69            g\n",
       "70         0.04\n",
       "71           mg\n",
       "72         0.45\n",
       "73           mg\n",
       "74         1.31\n",
       "Name: 2, Length: 75, dtype: object"
      ]
     },
     "execution_count": 18,
     "metadata": {},
     "output_type": "execute_result"
    }
   ],
   "source": [
    "pd.DataFrame(vs).iloc[2]"
   ]
  },
  {
   "cell_type": "code",
   "execution_count": 19,
   "metadata": {},
   "outputs": [
    {
     "data": {
      "text/html": [
       "<div>\n",
       "<style scoped>\n",
       "    .dataframe tbody tr th:only-of-type {\n",
       "        vertical-align: middle;\n",
       "    }\n",
       "\n",
       "    .dataframe tbody tr th {\n",
       "        vertical-align: top;\n",
       "    }\n",
       "\n",
       "    .dataframe thead th {\n",
       "        text-align: right;\n",
       "    }\n",
       "</style>\n",
       "<table border=\"1\" class=\"dataframe\">\n",
       "  <thead>\n",
       "    <tr style=\"text-align: right;\">\n",
       "      <th></th>\n",
       "      <th>Unnamed: 0</th>\n",
       "      <th>_id</th>\n",
       "      <th>aggregateLikes</th>\n",
       "      <th>analyzedInstructions</th>\n",
       "      <th>cheap</th>\n",
       "      <th>cookingMinutes</th>\n",
       "      <th>creditText</th>\n",
       "      <th>creditsText</th>\n",
       "      <th>cuisines</th>\n",
       "      <th>dairyFree</th>\n",
       "      <th>...</th>\n",
       "      <th>spoonacularSourceUrl</th>\n",
       "      <th>sustainable</th>\n",
       "      <th>title</th>\n",
       "      <th>vegan</th>\n",
       "      <th>vegetarian</th>\n",
       "      <th>veryHealthy</th>\n",
       "      <th>veryPopular</th>\n",
       "      <th>weightWatcherSmartPoints</th>\n",
       "      <th>whole30</th>\n",
       "      <th>winePairing</th>\n",
       "    </tr>\n",
       "  </thead>\n",
       "  <tbody>\n",
       "    <tr>\n",
       "      <th>0</th>\n",
       "      <td>0</td>\n",
       "      <td>3</td>\n",
       "      <td>0</td>\n",
       "      <td>[]</td>\n",
       "      <td>False</td>\n",
       "      <td>NaN</td>\n",
       "      <td>NaN</td>\n",
       "      <td>NaN</td>\n",
       "      <td>[]</td>\n",
       "      <td>True</td>\n",
       "      <td>...</td>\n",
       "      <td>https://spoonacular.com/carrots-cauliflower-an...</td>\n",
       "      <td>False</td>\n",
       "      <td>Carrots, Cauliflower And Anchovies</td>\n",
       "      <td>False</td>\n",
       "      <td>False</td>\n",
       "      <td>True</td>\n",
       "      <td>False</td>\n",
       "      <td>33</td>\n",
       "      <td>False</td>\n",
       "      <td>{'pairedWines': ['riesling', 'sauvignon blanc'...</td>\n",
       "    </tr>\n",
       "    <tr>\n",
       "      <th>1</th>\n",
       "      <td>1</td>\n",
       "      <td>5</td>\n",
       "      <td>0</td>\n",
       "      <td>[{'name': '', 'steps': [{'number': 1, 'step': ...</td>\n",
       "      <td>False</td>\n",
       "      <td>0.0</td>\n",
       "      <td>Jul's Kitchen</td>\n",
       "      <td>Jul's Kitchen</td>\n",
       "      <td>[]</td>\n",
       "      <td>False</td>\n",
       "      <td>...</td>\n",
       "      <td>https://spoonacular.com/bread-butter-and-ancho...</td>\n",
       "      <td>False</td>\n",
       "      <td>Bread, Butter And Anchovies</td>\n",
       "      <td>False</td>\n",
       "      <td>False</td>\n",
       "      <td>False</td>\n",
       "      <td>False</td>\n",
       "      <td>4</td>\n",
       "      <td>False</td>\n",
       "      <td>{'pairedWines': ['riesling', 'sauvignon blanc'...</td>\n",
       "    </tr>\n",
       "    <tr>\n",
       "      <th>2</th>\n",
       "      <td>2</td>\n",
       "      <td>6</td>\n",
       "      <td>0</td>\n",
       "      <td>[{'name': '', 'steps': [{'number': 1, 'step': ...</td>\n",
       "      <td>False</td>\n",
       "      <td>NaN</td>\n",
       "      <td>SippitySup</td>\n",
       "      <td>SippitySup</td>\n",
       "      <td>[]</td>\n",
       "      <td>True</td>\n",
       "      <td>...</td>\n",
       "      <td>https://spoonacular.com/fried-anchovies-6</td>\n",
       "      <td>False</td>\n",
       "      <td>Fried Anchovies</td>\n",
       "      <td>False</td>\n",
       "      <td>False</td>\n",
       "      <td>False</td>\n",
       "      <td>False</td>\n",
       "      <td>11</td>\n",
       "      <td>False</td>\n",
       "      <td>{'pairedWines': ['riesling', 'sauvignon blanc'...</td>\n",
       "    </tr>\n",
       "    <tr>\n",
       "      <th>3</th>\n",
       "      <td>3</td>\n",
       "      <td>7</td>\n",
       "      <td>31</td>\n",
       "      <td>[]</td>\n",
       "      <td>False</td>\n",
       "      <td>NaN</td>\n",
       "      <td>The Kitchn</td>\n",
       "      <td>The Kitchn</td>\n",
       "      <td>[]</td>\n",
       "      <td>True</td>\n",
       "      <td>...</td>\n",
       "      <td>https://spoonacular.com/tomato-anchovies-with-...</td>\n",
       "      <td>False</td>\n",
       "      <td>Tomato &amp; Anchovies With Bread Crumbs, Basil &amp; ...</td>\n",
       "      <td>False</td>\n",
       "      <td>False</td>\n",
       "      <td>False</td>\n",
       "      <td>False</td>\n",
       "      <td>4</td>\n",
       "      <td>False</td>\n",
       "      <td>{'pairedWines': ['riesling', 'sauvignon blanc'...</td>\n",
       "    </tr>\n",
       "    <tr>\n",
       "      <th>4</th>\n",
       "      <td>4</td>\n",
       "      <td>9</td>\n",
       "      <td>7</td>\n",
       "      <td>[{'name': '', 'steps': [{'number': 1, 'step': ...</td>\n",
       "      <td>False</td>\n",
       "      <td>390.0</td>\n",
       "      <td>Foodnetwork</td>\n",
       "      <td>Foodnetwork</td>\n",
       "      <td>[]</td>\n",
       "      <td>True</td>\n",
       "      <td>...</td>\n",
       "      <td>https://spoonacular.com/marinated-fresh-anchov...</td>\n",
       "      <td>False</td>\n",
       "      <td>Marinated Fresh Anchovies: Alici Marinate</td>\n",
       "      <td>False</td>\n",
       "      <td>False</td>\n",
       "      <td>False</td>\n",
       "      <td>False</td>\n",
       "      <td>5</td>\n",
       "      <td>False</td>\n",
       "      <td>{'pairedWines': ['pinot grigio', 'gruener velt...</td>\n",
       "    </tr>\n",
       "  </tbody>\n",
       "</table>\n",
       "<p>5 rows × 41 columns</p>\n",
       "</div>"
      ],
      "text/plain": [
       "   Unnamed: 0  _id  aggregateLikes  \\\n",
       "0           0    3               0   \n",
       "1           1    5               0   \n",
       "2           2    6               0   \n",
       "3           3    7              31   \n",
       "4           4    9               7   \n",
       "\n",
       "                                analyzedInstructions  cheap  cookingMinutes  \\\n",
       "0                                                 []  False             NaN   \n",
       "1  [{'name': '', 'steps': [{'number': 1, 'step': ...  False             0.0   \n",
       "2  [{'name': '', 'steps': [{'number': 1, 'step': ...  False             NaN   \n",
       "3                                                 []  False             NaN   \n",
       "4  [{'name': '', 'steps': [{'number': 1, 'step': ...  False           390.0   \n",
       "\n",
       "      creditText    creditsText cuisines  dairyFree  \\\n",
       "0            NaN            NaN       []       True   \n",
       "1  Jul's Kitchen  Jul's Kitchen       []      False   \n",
       "2     SippitySup     SippitySup       []       True   \n",
       "3     The Kitchn     The Kitchn       []       True   \n",
       "4    Foodnetwork    Foodnetwork       []       True   \n",
       "\n",
       "                         ...                          \\\n",
       "0                        ...                           \n",
       "1                        ...                           \n",
       "2                        ...                           \n",
       "3                        ...                           \n",
       "4                        ...                           \n",
       "\n",
       "                                spoonacularSourceUrl sustainable  \\\n",
       "0  https://spoonacular.com/carrots-cauliflower-an...       False   \n",
       "1  https://spoonacular.com/bread-butter-and-ancho...       False   \n",
       "2          https://spoonacular.com/fried-anchovies-6       False   \n",
       "3  https://spoonacular.com/tomato-anchovies-with-...       False   \n",
       "4  https://spoonacular.com/marinated-fresh-anchov...       False   \n",
       "\n",
       "                                               title  vegan  vegetarian  \\\n",
       "0                 Carrots, Cauliflower And Anchovies  False       False   \n",
       "1                        Bread, Butter And Anchovies  False       False   \n",
       "2                                    Fried Anchovies  False       False   \n",
       "3  Tomato & Anchovies With Bread Crumbs, Basil & ...  False       False   \n",
       "4          Marinated Fresh Anchovies: Alici Marinate  False       False   \n",
       "\n",
       "   veryHealthy  veryPopular weightWatcherSmartPoints whole30  \\\n",
       "0         True        False                       33   False   \n",
       "1        False        False                        4   False   \n",
       "2        False        False                       11   False   \n",
       "3        False        False                        4   False   \n",
       "4        False        False                        5   False   \n",
       "\n",
       "                                         winePairing  \n",
       "0  {'pairedWines': ['riesling', 'sauvignon blanc'...  \n",
       "1  {'pairedWines': ['riesling', 'sauvignon blanc'...  \n",
       "2  {'pairedWines': ['riesling', 'sauvignon blanc'...  \n",
       "3  {'pairedWines': ['riesling', 'sauvignon blanc'...  \n",
       "4  {'pairedWines': ['pinot grigio', 'gruener velt...  \n",
       "\n",
       "[5 rows x 41 columns]"
      ]
     },
     "execution_count": 19,
     "metadata": {},
     "output_type": "execute_result"
    }
   ],
   "source": [
    "df.head()"
   ]
  },
  {
   "cell_type": "code",
   "execution_count": 20,
   "metadata": {},
   "outputs": [],
   "source": [
    "def nutrient_info(x):\n",
    "    keys = []\n",
    "    values = []\n",
    "    for nut in x:\n",
    "        amount = nut['amount']\n",
    "        name = nut['name']\n",
    "        unit = nut['unit']\n",
    "        keys.append(name + '_unit'), values.append(unit)\n",
    "        keys.append(name + '_amount'), values.append(amount)\n",
    "    return keys, values"
   ]
  },
  {
   "cell_type": "code",
   "execution_count": 21,
   "metadata": {},
   "outputs": [
    {
     "data": {
      "text/plain": [
       "{'amount': 0.8,\n",
       " 'name': 'anchovies',\n",
       " 'nutrients': [{'amount': 1.92, 'name': 'Cholesterol', 'unit': 'mg'},\n",
       "  {'amount': 0.0, 'name': 'Vitamin B6', 'unit': 'mg'},\n",
       "  {'amount': 0.0, 'name': 'Fiber', 'unit': 'g'},\n",
       "  {'amount': 12.26, 'name': 'Potassium', 'unit': 'mg'},\n",
       "  {'amount': 0.04, 'name': 'Mono Unsaturated Fat', 'unit': 'g'},\n",
       "  {'amount': 1.17, 'name': 'Selenium', 'unit': 'µg'},\n",
       "  {'amount': 5.57, 'name': 'Phosphorus', 'unit': 'mg'},\n",
       "  {'amount': 0.0, 'name': 'Carbohydrates', 'unit': 'g'},\n",
       "  {'amount': 0.05, 'name': 'Poly Unsaturated Fat', 'unit': 'g'},\n",
       "  {'amount': 0.0, 'name': 'Caffeine', 'unit': 'mg'},\n",
       "  {'amount': 0.1, 'name': 'Iron', 'unit': 'mg'},\n",
       "  {'amount': 0.0, 'name': 'Alcohol', 'unit': 'g'},\n",
       "  {'amount': 0.0, 'name': 'Sugar', 'unit': 'g'},\n",
       "  {'amount': 0.0, 'name': 'Manganese', 'unit': 'mg'},\n",
       "  {'amount': 0.01, 'name': 'Copper', 'unit': 'mg'},\n",
       "  {'amount': 0.29, 'name': 'Folate', 'unit': 'µg'},\n",
       "  {'amount': 3.33, 'name': 'Sodium', 'unit': 'mg'},\n",
       "  {'amount': 0.06, 'name': 'Zinc', 'unit': 'mg'},\n",
       "  {'amount': 4.7, 'name': 'Calcium', 'unit': 'mg'},\n",
       "  {'amount': 0.02, 'name': 'Vitamin E', 'unit': 'mg'},\n",
       "  {'amount': 0.0, 'name': 'Folic Acid', 'unit': 'µg'},\n",
       "  {'amount': 0.65, 'name': 'Protein', 'unit': 'g'},\n",
       "  {'amount': 4.19, 'name': 'Calories', 'unit': 'cal'},\n",
       "  {'amount': 0.0, 'name': 'Vitamin B1', 'unit': 'mg'},\n",
       "  {'amount': 0.01, 'name': 'Vitamin B2', 'unit': 'mg'},\n",
       "  {'amount': 0.02, 'name': 'Vitamin B12', 'unit': 'µg'},\n",
       "  {'amount': 0.15, 'name': 'Fat', 'unit': 'g'},\n",
       "  {'amount': 1.6, 'name': 'Vitamin A', 'unit': 'IU'},\n",
       "  {'amount': 0.02, 'name': 'Vitamin B5', 'unit': 'mg'},\n",
       "  {'amount': 0.0, 'name': 'Vitamin K', 'unit': 'µg'},\n",
       "  {'amount': 0.0, 'name': 'Vitamin C', 'unit': 'mg'},\n",
       "  {'amount': 0.04, 'name': 'Saturated Fat', 'unit': 'g'},\n",
       "  {'amount': 0.45, 'name': 'Vitamin B3', 'unit': 'mg'},\n",
       "  {'amount': 1.31, 'name': 'Magnesium', 'unit': 'mg'}],\n",
       " 'unit': ''}"
      ]
     },
     "execution_count": 21,
     "metadata": {},
     "output_type": "execute_result"
    }
   ],
   "source": [
    "json.loads(df['nutrition'][0].replace('\\'', '\\\"').replace('\\\"s ', '\\'s '))['ingredients'][2]"
   ]
  },
  {
   "cell_type": "code",
   "execution_count": 22,
   "metadata": {},
   "outputs": [],
   "source": [
    "import numpy as np"
   ]
  },
  {
   "cell_type": "code",
   "execution_count": 23,
   "metadata": {},
   "outputs": [],
   "source": [
    "new_vs = np.array(vs)"
   ]
  },
  {
   "cell_type": "code",
   "execution_count": 24,
   "metadata": {},
   "outputs": [
    {
     "data": {
      "text/plain": [
       "(10146, 75)"
      ]
     },
     "execution_count": 24,
     "metadata": {},
     "output_type": "execute_result"
    }
   ],
   "source": [
    "new_vs.shape"
   ]
  },
  {
   "cell_type": "code",
   "execution_count": null,
   "metadata": {},
   "outputs": [],
   "source": []
  }
 ],
 "metadata": {
  "kernelspec": {
   "display_name": "Python 3",
   "language": "python",
   "name": "python3"
  },
  "language_info": {
   "codemirror_mode": {
    "name": "ipython",
    "version": 3
   },
   "file_extension": ".py",
   "mimetype": "text/x-python",
   "name": "python",
   "nbconvert_exporter": "python",
   "pygments_lexer": "ipython3",
   "version": "3.6.4"
  }
 },
 "nbformat": 4,
 "nbformat_minor": 2
}
