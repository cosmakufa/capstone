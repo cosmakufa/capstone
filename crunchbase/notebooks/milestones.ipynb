{
 "cells": [
  {
   "cell_type": "code",
   "execution_count": 10,
   "metadata": {},
   "outputs": [],
   "source": [
    "import pandas as pd\n",
    "import matplotlib.pyplot as plt\n",
    "%matplotlib inline\n",
    "\n",
    "\n",
    "df = pd.read_csv('../data/cb_milestones.csv')"
   ]
  },
  {
   "cell_type": "code",
   "execution_count": 11,
   "metadata": {},
   "outputs": [
    {
     "data": {
      "text/html": [
       "<div>\n",
       "<style scoped>\n",
       "    .dataframe tbody tr th:only-of-type {\n",
       "        vertical-align: middle;\n",
       "    }\n",
       "\n",
       "    .dataframe tbody tr th {\n",
       "        vertical-align: top;\n",
       "    }\n",
       "\n",
       "    .dataframe thead th {\n",
       "        text-align: right;\n",
       "    }\n",
       "</style>\n",
       "<table border=\"1\" class=\"dataframe\">\n",
       "  <thead>\n",
       "    <tr style=\"text-align: right;\">\n",
       "      <th></th>\n",
       "      <th>0</th>\n",
       "      <th>1</th>\n",
       "      <th>2</th>\n",
       "      <th>3</th>\n",
       "      <th>4</th>\n",
       "    </tr>\n",
       "  </thead>\n",
       "  <tbody>\n",
       "    <tr>\n",
       "      <th>id</th>\n",
       "      <td>1</td>\n",
       "      <td>2</td>\n",
       "      <td>3</td>\n",
       "      <td>4</td>\n",
       "      <td>5</td>\n",
       "    </tr>\n",
       "    <tr>\n",
       "      <th>object_id</th>\n",
       "      <td>c:12</td>\n",
       "      <td>c:3138</td>\n",
       "      <td>c:59</td>\n",
       "      <td>c:314</td>\n",
       "      <td>c:314</td>\n",
       "    </tr>\n",
       "    <tr>\n",
       "      <th>milestone_at</th>\n",
       "      <td>2008-06-09</td>\n",
       "      <td>2008-06-17</td>\n",
       "      <td>2008-06-18</td>\n",
       "      <td>2008-06-18</td>\n",
       "      <td>2008-01-22</td>\n",
       "    </tr>\n",
       "    <tr>\n",
       "      <th>milestone_code</th>\n",
       "      <td>other</td>\n",
       "      <td>other</td>\n",
       "      <td>other</td>\n",
       "      <td>other</td>\n",
       "      <td>other</td>\n",
       "    </tr>\n",
       "    <tr>\n",
       "      <th>description</th>\n",
       "      <td>Survives iPhone 3G Stevenote</td>\n",
       "      <td>Twhirl announces support for Seesmic video pla...</td>\n",
       "      <td>More than 4 Billion videos viewed at Google Si...</td>\n",
       "      <td>Reddit goes Open Source</td>\n",
       "      <td>Adds the ability to create your own Reddits</td>\n",
       "    </tr>\n",
       "    <tr>\n",
       "      <th>source_url</th>\n",
       "      <td>http://www.techcrunch.com/2008/06/10/twitter-f...</td>\n",
       "      <td>http://www.inquisitr.com/1103/seesmic-now-avai...</td>\n",
       "      <td>http://www.comscore.com/press/release.asp?pres...</td>\n",
       "      <td>http://blog.reddit.com/2008/06/reddit-goes-ope...</td>\n",
       "      <td>http://www.techcrunch.com/2008/01/22/reddit-ad...</td>\n",
       "    </tr>\n",
       "    <tr>\n",
       "      <th>source_description</th>\n",
       "      <td>Twitter Fails To Fail, Community Rejoices</td>\n",
       "      <td>Seesmic Now Available In Twhirl</td>\n",
       "      <td>11 Billion Videos Viewed Online in the U.S. in...</td>\n",
       "      <td>reddit goes open source</td>\n",
       "      <td>Reddit Adds Ability to Create Your Own â€œRedd...</td>\n",
       "    </tr>\n",
       "    <tr>\n",
       "      <th>created_at</th>\n",
       "      <td>2008-06-18 08:14:06</td>\n",
       "      <td>2008-06-18 08:46:28</td>\n",
       "      <td>2008-06-18 08:50:24</td>\n",
       "      <td>2008-06-19 04:14:00</td>\n",
       "      <td>2008-06-19 04:15:53</td>\n",
       "    </tr>\n",
       "    <tr>\n",
       "      <th>updated_at</th>\n",
       "      <td>2008-06-18 08:14:06</td>\n",
       "      <td>2008-06-18 08:46:28</td>\n",
       "      <td>2008-06-18 08:50:24</td>\n",
       "      <td>2008-06-19 04:14:00</td>\n",
       "      <td>2008-06-19 04:15:53</td>\n",
       "    </tr>\n",
       "  </tbody>\n",
       "</table>\n",
       "</div>"
      ],
      "text/plain": [
       "                                                                    0  \\\n",
       "id                                                                  1   \n",
       "object_id                                                        c:12   \n",
       "milestone_at                                               2008-06-09   \n",
       "milestone_code                                                  other   \n",
       "description                              Survives iPhone 3G Stevenote   \n",
       "source_url          http://www.techcrunch.com/2008/06/10/twitter-f...   \n",
       "source_description          Twitter Fails To Fail, Community Rejoices   \n",
       "created_at                                        2008-06-18 08:14:06   \n",
       "updated_at                                        2008-06-18 08:14:06   \n",
       "\n",
       "                                                                    1  \\\n",
       "id                                                                  2   \n",
       "object_id                                                      c:3138   \n",
       "milestone_at                                               2008-06-17   \n",
       "milestone_code                                                  other   \n",
       "description         Twhirl announces support for Seesmic video pla...   \n",
       "source_url          http://www.inquisitr.com/1103/seesmic-now-avai...   \n",
       "source_description                    Seesmic Now Available In Twhirl   \n",
       "created_at                                        2008-06-18 08:46:28   \n",
       "updated_at                                        2008-06-18 08:46:28   \n",
       "\n",
       "                                                                    2  \\\n",
       "id                                                                  3   \n",
       "object_id                                                        c:59   \n",
       "milestone_at                                               2008-06-18   \n",
       "milestone_code                                                  other   \n",
       "description         More than 4 Billion videos viewed at Google Si...   \n",
       "source_url          http://www.comscore.com/press/release.asp?pres...   \n",
       "source_description  11 Billion Videos Viewed Online in the U.S. in...   \n",
       "created_at                                        2008-06-18 08:50:24   \n",
       "updated_at                                        2008-06-18 08:50:24   \n",
       "\n",
       "                                                                    3  \\\n",
       "id                                                                  4   \n",
       "object_id                                                       c:314   \n",
       "milestone_at                                               2008-06-18   \n",
       "milestone_code                                                  other   \n",
       "description                                   Reddit goes Open Source   \n",
       "source_url          http://blog.reddit.com/2008/06/reddit-goes-ope...   \n",
       "source_description                            reddit goes open source   \n",
       "created_at                                        2008-06-19 04:14:00   \n",
       "updated_at                                        2008-06-19 04:14:00   \n",
       "\n",
       "                                                                    4  \n",
       "id                                                                  5  \n",
       "object_id                                                       c:314  \n",
       "milestone_at                                               2008-01-22  \n",
       "milestone_code                                                  other  \n",
       "description               Adds the ability to create your own Reddits  \n",
       "source_url          http://www.techcrunch.com/2008/01/22/reddit-ad...  \n",
       "source_description  Reddit Adds Ability to Create Your Own â€œRedd...  \n",
       "created_at                                        2008-06-19 04:15:53  \n",
       "updated_at                                        2008-06-19 04:15:53  "
      ]
     },
     "execution_count": 11,
     "metadata": {},
     "output_type": "execute_result"
    }
   ],
   "source": [
    "df.head().T"
   ]
  },
  {
   "cell_type": "code",
   "execution_count": 12,
   "metadata": {},
   "outputs": [
    {
     "name": "stdout",
     "output_type": "stream",
     "text": [
      "<class 'pandas.core.frame.DataFrame'>\n",
      "RangeIndex: 39456 entries, 0 to 39455\n",
      "Data columns (total 9 columns):\n",
      "id                    39456 non-null int64\n",
      "object_id             39456 non-null object\n",
      "milestone_at          39456 non-null object\n",
      "milestone_code        39456 non-null object\n",
      "description           39456 non-null object\n",
      "source_url            31401 non-null object\n",
      "source_description    29268 non-null object\n",
      "created_at            39456 non-null object\n",
      "updated_at            39456 non-null object\n",
      "dtypes: int64(1), object(8)\n",
      "memory usage: 2.7+ MB\n"
     ]
    }
   ],
   "source": [
    "df.info()"
   ]
  },
  {
   "cell_type": "code",
   "execution_count": 13,
   "metadata": {},
   "outputs": [
    {
     "data": {
      "text/plain": [
       "['id',\n",
       " 'object_id',\n",
       " 'milestone_at',\n",
       " 'milestone_code',\n",
       " 'description',\n",
       " 'source_url',\n",
       " 'source_description',\n",
       " 'created_at',\n",
       " 'updated_at']"
      ]
     },
     "execution_count": 13,
     "metadata": {},
     "output_type": "execute_result"
    }
   ],
   "source": [
    "list(df.columns)"
   ]
  },
  {
   "cell_type": "code",
   "execution_count": 15,
   "metadata": {},
   "outputs": [
    {
     "data": {
      "text/html": [
       "<div>\n",
       "<style scoped>\n",
       "    .dataframe tbody tr th:only-of-type {\n",
       "        vertical-align: middle;\n",
       "    }\n",
       "\n",
       "    .dataframe tbody tr th {\n",
       "        vertical-align: top;\n",
       "    }\n",
       "\n",
       "    .dataframe thead th {\n",
       "        text-align: right;\n",
       "    }\n",
       "</style>\n",
       "<table border=\"1\" class=\"dataframe\">\n",
       "  <thead>\n",
       "    <tr style=\"text-align: right;\">\n",
       "      <th></th>\n",
       "      <th>0</th>\n",
       "      <th>1</th>\n",
       "      <th>2</th>\n",
       "      <th>3</th>\n",
       "      <th>4</th>\n",
       "    </tr>\n",
       "  </thead>\n",
       "  <tbody>\n",
       "    <tr>\n",
       "      <th>object_id</th>\n",
       "      <td>c:12</td>\n",
       "      <td>c:3138</td>\n",
       "      <td>c:59</td>\n",
       "      <td>c:314</td>\n",
       "      <td>c:314</td>\n",
       "    </tr>\n",
       "    <tr>\n",
       "      <th>milestone_at</th>\n",
       "      <td>2008-06-09</td>\n",
       "      <td>2008-06-17</td>\n",
       "      <td>2008-06-18</td>\n",
       "      <td>2008-06-18</td>\n",
       "      <td>2008-01-22</td>\n",
       "    </tr>\n",
       "    <tr>\n",
       "      <th>description</th>\n",
       "      <td>Survives iPhone 3G Stevenote</td>\n",
       "      <td>Twhirl announces support for Seesmic video pla...</td>\n",
       "      <td>More than 4 Billion videos viewed at Google Si...</td>\n",
       "      <td>Reddit goes Open Source</td>\n",
       "      <td>Adds the ability to create your own Reddits</td>\n",
       "    </tr>\n",
       "  </tbody>\n",
       "</table>\n",
       "</div>"
      ],
      "text/plain": [
       "                                         0  \\\n",
       "object_id                             c:12   \n",
       "milestone_at                    2008-06-09   \n",
       "description   Survives iPhone 3G Stevenote   \n",
       "\n",
       "                                                              1  \\\n",
       "object_id                                                c:3138   \n",
       "milestone_at                                         2008-06-17   \n",
       "description   Twhirl announces support for Seesmic video pla...   \n",
       "\n",
       "                                                              2  \\\n",
       "object_id                                                  c:59   \n",
       "milestone_at                                         2008-06-18   \n",
       "description   More than 4 Billion videos viewed at Google Si...   \n",
       "\n",
       "                                    3  \\\n",
       "object_id                       c:314   \n",
       "milestone_at               2008-06-18   \n",
       "description   Reddit goes Open Source   \n",
       "\n",
       "                                                        4  \n",
       "object_id                                           c:314  \n",
       "milestone_at                                   2008-01-22  \n",
       "description   Adds the ability to create your own Reddits  "
      ]
     },
     "execution_count": 15,
     "metadata": {},
     "output_type": "execute_result"
    }
   ],
   "source": [
    "removed = ['id',\n",
    " \n",
    "\n",
    " 'milestone_code',\n",
    "\n",
    " 'source_url',\n",
    " 'source_description',\n",
    " 'created_at',\n",
    " 'updated_at']\n",
    "keep = [x for x in list(df.columns) if x not in removed]\n",
    "df = df[keep]\n",
    "df.head().T"
   ]
  },
  {
   "cell_type": "code",
   "execution_count": 16,
   "metadata": {},
   "outputs": [
    {
     "data": {
      "text/plain": [
       "['object_id', 'milestone_at', 'description']"
      ]
     },
     "execution_count": 16,
     "metadata": {},
     "output_type": "execute_result"
    }
   ],
   "source": [
    "keep"
   ]
  },
  {
   "cell_type": "code",
   "execution_count": null,
   "metadata": {},
   "outputs": [],
   "source": []
  }
 ],
 "metadata": {
  "kernelspec": {
   "display_name": "Python 3",
   "language": "python",
   "name": "python3"
  },
  "language_info": {
   "codemirror_mode": {
    "name": "ipython",
    "version": 3
   },
   "file_extension": ".py",
   "mimetype": "text/x-python",
   "name": "python",
   "nbconvert_exporter": "python",
   "pygments_lexer": "ipython3",
   "version": "3.6.4"
  }
 },
 "nbformat": 4,
 "nbformat_minor": 2
}
