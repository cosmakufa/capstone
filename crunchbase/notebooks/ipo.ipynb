{
 "cells": [
  {
   "cell_type": "code",
   "execution_count": 1,
   "metadata": {},
   "outputs": [],
   "source": [
    "import pandas as pd\n",
    "import matplotlib.pyplot as plt\n",
    "%matplotlib inline\n"
   ]
  },
  {
   "cell_type": "code",
   "execution_count": 2,
   "metadata": {},
   "outputs": [],
   "source": [
    "df_ipo = pd.read_csv('data/cb_ipos.csv', parse_dates=['public_at'])"
   ]
  },
  {
   "cell_type": "code",
   "execution_count": 3,
   "metadata": {},
   "outputs": [
    {
     "data": {
      "text/html": [
       "<div>\n",
       "<style scoped>\n",
       "    .dataframe tbody tr th:only-of-type {\n",
       "        vertical-align: middle;\n",
       "    }\n",
       "\n",
       "    .dataframe tbody tr th {\n",
       "        vertical-align: top;\n",
       "    }\n",
       "\n",
       "    .dataframe thead th {\n",
       "        text-align: right;\n",
       "    }\n",
       "</style>\n",
       "<table border=\"1\" class=\"dataframe\">\n",
       "  <thead>\n",
       "    <tr style=\"text-align: right;\">\n",
       "      <th></th>\n",
       "      <th>0</th>\n",
       "      <th>1</th>\n",
       "      <th>2</th>\n",
       "      <th>3</th>\n",
       "      <th>4</th>\n",
       "    </tr>\n",
       "  </thead>\n",
       "  <tbody>\n",
       "    <tr>\n",
       "      <th>id</th>\n",
       "      <td>1</td>\n",
       "      <td>2</td>\n",
       "      <td>3</td>\n",
       "      <td>4</td>\n",
       "      <td>5</td>\n",
       "    </tr>\n",
       "    <tr>\n",
       "      <th>ipo_id</th>\n",
       "      <td>1</td>\n",
       "      <td>2</td>\n",
       "      <td>3</td>\n",
       "      <td>4</td>\n",
       "      <td>5</td>\n",
       "    </tr>\n",
       "    <tr>\n",
       "      <th>object_id</th>\n",
       "      <td>c:1654</td>\n",
       "      <td>c:1242</td>\n",
       "      <td>c:342</td>\n",
       "      <td>c:59</td>\n",
       "      <td>c:317</td>\n",
       "    </tr>\n",
       "    <tr>\n",
       "      <th>valuation_amount</th>\n",
       "      <td>NaN</td>\n",
       "      <td>NaN</td>\n",
       "      <td>NaN</td>\n",
       "      <td>NaN</td>\n",
       "      <td>1e+11</td>\n",
       "    </tr>\n",
       "    <tr>\n",
       "      <th>valuation_currency_code</th>\n",
       "      <td>USD</td>\n",
       "      <td>USD</td>\n",
       "      <td>USD</td>\n",
       "      <td>USD</td>\n",
       "      <td>USD</td>\n",
       "    </tr>\n",
       "    <tr>\n",
       "      <th>raised_amount</th>\n",
       "      <td>NaN</td>\n",
       "      <td>NaN</td>\n",
       "      <td>NaN</td>\n",
       "      <td>NaN</td>\n",
       "      <td>NaN</td>\n",
       "    </tr>\n",
       "    <tr>\n",
       "      <th>raised_currency_code</th>\n",
       "      <td>USD</td>\n",
       "      <td>NaN</td>\n",
       "      <td>NaN</td>\n",
       "      <td>NaN</td>\n",
       "      <td>NaN</td>\n",
       "    </tr>\n",
       "    <tr>\n",
       "      <th>public_at</th>\n",
       "      <td>1980-12-19 00:00:00</td>\n",
       "      <td>1986-03-13 00:00:00</td>\n",
       "      <td>1969-06-09 00:00:00</td>\n",
       "      <td>2004-08-25 00:00:00</td>\n",
       "      <td>1997-05-01 00:00:00</td>\n",
       "    </tr>\n",
       "    <tr>\n",
       "      <th>stock_symbol</th>\n",
       "      <td>NASDAQ:AAPL</td>\n",
       "      <td>NASDAQ:MSFT</td>\n",
       "      <td>NYSE:DIS</td>\n",
       "      <td>NASDAQ:GOOG</td>\n",
       "      <td>NASDAQ:AMZN</td>\n",
       "    </tr>\n",
       "    <tr>\n",
       "      <th>source_url</th>\n",
       "      <td>NaN</td>\n",
       "      <td>NaN</td>\n",
       "      <td>NaN</td>\n",
       "      <td>NaN</td>\n",
       "      <td>NaN</td>\n",
       "    </tr>\n",
       "    <tr>\n",
       "      <th>source_description</th>\n",
       "      <td>NaN</td>\n",
       "      <td>NaN</td>\n",
       "      <td>NaN</td>\n",
       "      <td>NaN</td>\n",
       "      <td>NaN</td>\n",
       "    </tr>\n",
       "    <tr>\n",
       "      <th>created_at</th>\n",
       "      <td>2008-02-09 05:17:45</td>\n",
       "      <td>2008-02-09 05:25:18</td>\n",
       "      <td>2008-02-09 05:40:32</td>\n",
       "      <td>2008-02-10 22:51:24</td>\n",
       "      <td>2008-02-10 23:28:09</td>\n",
       "    </tr>\n",
       "    <tr>\n",
       "      <th>updated_at</th>\n",
       "      <td>2012-04-12 04:02:59</td>\n",
       "      <td>2010-12-11 12:39:46</td>\n",
       "      <td>2010-12-23 08:58:16</td>\n",
       "      <td>2011-08-01 20:47:08</td>\n",
       "      <td>2011-08-01 21:11:22</td>\n",
       "    </tr>\n",
       "  </tbody>\n",
       "</table>\n",
       "</div>"
      ],
      "text/plain": [
       "                                           0                    1  \\\n",
       "id                                         1                    2   \n",
       "ipo_id                                     1                    2   \n",
       "object_id                             c:1654               c:1242   \n",
       "valuation_amount                         NaN                  NaN   \n",
       "valuation_currency_code                  USD                  USD   \n",
       "raised_amount                            NaN                  NaN   \n",
       "raised_currency_code                     USD                  NaN   \n",
       "public_at                1980-12-19 00:00:00  1986-03-13 00:00:00   \n",
       "stock_symbol                     NASDAQ:AAPL          NASDAQ:MSFT   \n",
       "source_url                               NaN                  NaN   \n",
       "source_description                       NaN                  NaN   \n",
       "created_at               2008-02-09 05:17:45  2008-02-09 05:25:18   \n",
       "updated_at               2012-04-12 04:02:59  2010-12-11 12:39:46   \n",
       "\n",
       "                                           2                    3  \\\n",
       "id                                         3                    4   \n",
       "ipo_id                                     3                    4   \n",
       "object_id                              c:342                 c:59   \n",
       "valuation_amount                         NaN                  NaN   \n",
       "valuation_currency_code                  USD                  USD   \n",
       "raised_amount                            NaN                  NaN   \n",
       "raised_currency_code                     NaN                  NaN   \n",
       "public_at                1969-06-09 00:00:00  2004-08-25 00:00:00   \n",
       "stock_symbol                        NYSE:DIS          NASDAQ:GOOG   \n",
       "source_url                               NaN                  NaN   \n",
       "source_description                       NaN                  NaN   \n",
       "created_at               2008-02-09 05:40:32  2008-02-10 22:51:24   \n",
       "updated_at               2010-12-23 08:58:16  2011-08-01 20:47:08   \n",
       "\n",
       "                                           4  \n",
       "id                                         5  \n",
       "ipo_id                                     5  \n",
       "object_id                              c:317  \n",
       "valuation_amount                       1e+11  \n",
       "valuation_currency_code                  USD  \n",
       "raised_amount                            NaN  \n",
       "raised_currency_code                     NaN  \n",
       "public_at                1997-05-01 00:00:00  \n",
       "stock_symbol                     NASDAQ:AMZN  \n",
       "source_url                               NaN  \n",
       "source_description                       NaN  \n",
       "created_at               2008-02-10 23:28:09  \n",
       "updated_at               2011-08-01 21:11:22  "
      ]
     },
     "execution_count": 3,
     "metadata": {},
     "output_type": "execute_result"
    }
   ],
   "source": [
    "df_ipo.head().T"
   ]
  },
  {
   "cell_type": "code",
   "execution_count": 8,
   "metadata": {},
   "outputs": [
    {
     "name": "stdout",
     "output_type": "stream",
     "text": [
      "<class 'pandas.core.frame.DataFrame'>\n",
      "RangeIndex: 1259 entries, 0 to 1258\n",
      "Data columns (total 13 columns):\n",
      "id                         1259 non-null int64\n",
      "ipo_id                     1259 non-null int64\n",
      "object_id                  1254 non-null object\n",
      "valuation_amount           108 non-null float64\n",
      "valuation_currency_code    1257 non-null object\n",
      "raised_amount              139 non-null float64\n",
      "raised_currency_code       699 non-null object\n",
      "public_at                  659 non-null datetime64[ns]\n",
      "stock_symbol               1259 non-null object\n",
      "source_url                 191 non-null object\n",
      "source_description         180 non-null object\n",
      "created_at                 1259 non-null object\n",
      "updated_at                 1259 non-null object\n",
      "dtypes: datetime64[ns](1), float64(2), int64(2), object(8)\n",
      "memory usage: 127.9+ KB\n"
     ]
    }
   ],
   "source": [
    "df_ipo.info()"
   ]
  },
  {
   "cell_type": "markdown",
   "metadata": {},
   "source": [
    "interesting to note is that in the investment data we found that we had information about 17000 companies and this dataset gives us information about 1259 public companies, some included in the dataset and some not. from this we can speculate to say only 1 in 170 companies that recieve funding end up ipo. Thus our dataset is going to be imbalanced and we should take that into account when developing our models"
   ]
  },
  {
   "cell_type": "code",
   "execution_count": 4,
   "metadata": {},
   "outputs": [
    {
     "data": {
      "text/plain": [
       "['id',\n",
       " 'ipo_id',\n",
       " 'object_id',\n",
       " 'valuation_amount',\n",
       " 'valuation_currency_code',\n",
       " 'raised_amount',\n",
       " 'raised_currency_code',\n",
       " 'public_at',\n",
       " 'stock_symbol',\n",
       " 'source_url',\n",
       " 'source_description',\n",
       " 'created_at',\n",
       " 'updated_at']"
      ]
     },
     "execution_count": 4,
     "metadata": {},
     "output_type": "execute_result"
    }
   ],
   "source": [
    "list(df_ipo.columns)"
   ]
  },
  {
   "cell_type": "code",
   "execution_count": 9,
   "metadata": {},
   "outputs": [],
   "source": [
    "df_ipo['month'] = df_ipo['public_at'].apply(lambda x: x.month)"
   ]
  },
  {
   "cell_type": "code",
   "execution_count": 10,
   "metadata": {},
   "outputs": [],
   "source": [
    "df_ipo['year'] = df_ipo['public_at'].apply(lambda x: x.year)"
   ]
  },
  {
   "cell_type": "code",
   "execution_count": 24,
   "metadata": {},
   "outputs": [
    {
     "data": {
      "image/png": "[encoded data removed]",
      "text/plain": [
       "<matplotlib.figure.Figure at 0x11b70f860>"
      ]
     },
     "metadata": {},
     "output_type": "display_data"
    }
   ],
   "source": [
    "df_ipo.groupby(['year']).count()['id'].plot(kind=\"bar\", figsize=(20,10));"
   ]
  },
  {
   "cell_type": "markdown",
   "metadata": {},
   "source": [
    "we have information about companies from 1969 to 2013. from the bar graph abouve it shows that in 2013 there was a spike in companies ipoing. interesting thing to note is that the number of companies ipoing decreased after the dotcom boom, but the number of companies ipoing after the recession did not change. the spike in 2013 could also be because crunchbase got better at collecting information around then."
   ]
  }
 ],
 "metadata": {
  "kernelspec": {
   "display_name": "Python 3",
   "language": "python",
   "name": "python3"
  },
  "language_info": {
   "codemirror_mode": {
    "name": "ipython",
    "version": 3
   },
   "file_extension": ".py",
   "mimetype": "text/x-python",
   "name": "python",
   "nbconvert_exporter": "python",
   "pygments_lexer": "ipython3",
   "version": "3.6.4"
  }
 },
 "nbformat": 4,
 "nbformat_minor": 2
}
