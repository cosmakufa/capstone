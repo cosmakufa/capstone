{
 "cells": [
  {
   "cell_type": "code",
   "execution_count": 1,
   "metadata": {},
   "outputs": [],
   "source": [
    "import pandas as pd\n",
    "import matplotlib.pyplot as plt\n",
    "%matplotlib inline\n",
    "\n",
    "\n",
    "df = pd.read_csv('../data/cb_people.csv')"
   ]
  },
  {
   "cell_type": "code",
   "execution_count": 2,
   "metadata": {},
   "outputs": [
    {
     "data": {
      "text/html": [
       "<div>\n",
       "<style scoped>\n",
       "    .dataframe tbody tr th:only-of-type {\n",
       "        vertical-align: middle;\n",
       "    }\n",
       "\n",
       "    .dataframe tbody tr th {\n",
       "        vertical-align: top;\n",
       "    }\n",
       "\n",
       "    .dataframe thead th {\n",
       "        text-align: right;\n",
       "    }\n",
       "</style>\n",
       "<table border=\"1\" class=\"dataframe\">\n",
       "  <thead>\n",
       "    <tr style=\"text-align: right;\">\n",
       "      <th></th>\n",
       "      <th>0</th>\n",
       "      <th>1</th>\n",
       "      <th>2</th>\n",
       "      <th>3</th>\n",
       "      <th>4</th>\n",
       "    </tr>\n",
       "  </thead>\n",
       "  <tbody>\n",
       "    <tr>\n",
       "      <th>id</th>\n",
       "      <td>1</td>\n",
       "      <td>2</td>\n",
       "      <td>3</td>\n",
       "      <td>4</td>\n",
       "      <td>5</td>\n",
       "    </tr>\n",
       "    <tr>\n",
       "      <th>object_id</th>\n",
       "      <td>p:2</td>\n",
       "      <td>p:3</td>\n",
       "      <td>p:4</td>\n",
       "      <td>p:5</td>\n",
       "      <td>p:6</td>\n",
       "    </tr>\n",
       "    <tr>\n",
       "      <th>first_name</th>\n",
       "      <td>Ben</td>\n",
       "      <td>Kevin</td>\n",
       "      <td>Raju</td>\n",
       "      <td>Ian</td>\n",
       "      <td>Kevin</td>\n",
       "    </tr>\n",
       "    <tr>\n",
       "      <th>last_name</th>\n",
       "      <td>Elowitz</td>\n",
       "      <td>Flaherty</td>\n",
       "      <td>Vegesna</td>\n",
       "      <td>Wenig</td>\n",
       "      <td>Rose</td>\n",
       "    </tr>\n",
       "    <tr>\n",
       "      <th>birthplace</th>\n",
       "      <td>NaN</td>\n",
       "      <td>NaN</td>\n",
       "      <td>NaN</td>\n",
       "      <td>NaN</td>\n",
       "      <td>Redding, CA</td>\n",
       "    </tr>\n",
       "    <tr>\n",
       "      <th>affiliation_name</th>\n",
       "      <td>Blue Nile</td>\n",
       "      <td>Wetpaint</td>\n",
       "      <td>Zoho</td>\n",
       "      <td>Zoho</td>\n",
       "      <td>i/o Ventures</td>\n",
       "    </tr>\n",
       "  </tbody>\n",
       "</table>\n",
       "</div>"
      ],
      "text/plain": [
       "                          0         1        2      3             4\n",
       "id                        1         2        3      4             5\n",
       "object_id               p:2       p:3      p:4    p:5           p:6\n",
       "first_name              Ben     Kevin     Raju    Ian         Kevin\n",
       "last_name           Elowitz  Flaherty  Vegesna  Wenig          Rose\n",
       "birthplace              NaN       NaN      NaN    NaN   Redding, CA\n",
       "affiliation_name  Blue Nile  Wetpaint     Zoho   Zoho  i/o Ventures"
      ]
     },
     "execution_count": 2,
     "metadata": {},
     "output_type": "execute_result"
    }
   ],
   "source": [
    "df.head().T"
   ]
  },
  {
   "cell_type": "code",
   "execution_count": 3,
   "metadata": {},
   "outputs": [
    {
     "name": "stdout",
     "output_type": "stream",
     "text": [
      "<class 'pandas.core.frame.DataFrame'>\n",
      "RangeIndex: 226709 entries, 0 to 226708\n",
      "Data columns (total 6 columns):\n",
      "id                  226709 non-null int64\n",
      "object_id           226709 non-null object\n",
      "first_name          226704 non-null object\n",
      "last_name           226708 non-null object\n",
      "birthplace          28084 non-null object\n",
      "affiliation_name    226689 non-null object\n",
      "dtypes: int64(1), object(5)\n",
      "memory usage: 10.4+ MB\n"
     ]
    }
   ],
   "source": [
    "df.info()"
   ]
  },
  {
   "cell_type": "code",
   "execution_count": 4,
   "metadata": {},
   "outputs": [
    {
     "data": {
      "text/plain": [
       "['id',\n",
       " 'object_id',\n",
       " 'first_name',\n",
       " 'last_name',\n",
       " 'birthplace',\n",
       " 'affiliation_name']"
      ]
     },
     "execution_count": 4,
     "metadata": {},
     "output_type": "execute_result"
    }
   ],
   "source": [
    "list(df.columns)"
   ]
  },
  {
   "cell_type": "code",
   "execution_count": 5,
   "metadata": {},
   "outputs": [
    {
     "data": {
      "text/html": [
       "<div>\n",
       "<style scoped>\n",
       "    .dataframe tbody tr th:only-of-type {\n",
       "        vertical-align: middle;\n",
       "    }\n",
       "\n",
       "    .dataframe tbody tr th {\n",
       "        vertical-align: top;\n",
       "    }\n",
       "\n",
       "    .dataframe thead th {\n",
       "        text-align: right;\n",
       "    }\n",
       "</style>\n",
       "<table border=\"1\" class=\"dataframe\">\n",
       "  <thead>\n",
       "    <tr style=\"text-align: right;\">\n",
       "      <th></th>\n",
       "      <th>0</th>\n",
       "      <th>1</th>\n",
       "      <th>2</th>\n",
       "      <th>3</th>\n",
       "      <th>4</th>\n",
       "    </tr>\n",
       "  </thead>\n",
       "  <tbody>\n",
       "    <tr>\n",
       "      <th>id</th>\n",
       "      <td>1</td>\n",
       "      <td>2</td>\n",
       "      <td>3</td>\n",
       "      <td>4</td>\n",
       "      <td>5</td>\n",
       "    </tr>\n",
       "    <tr>\n",
       "      <th>object_id</th>\n",
       "      <td>p:2</td>\n",
       "      <td>p:3</td>\n",
       "      <td>p:4</td>\n",
       "      <td>p:5</td>\n",
       "      <td>p:6</td>\n",
       "    </tr>\n",
       "    <tr>\n",
       "      <th>first_name</th>\n",
       "      <td>Ben</td>\n",
       "      <td>Kevin</td>\n",
       "      <td>Raju</td>\n",
       "      <td>Ian</td>\n",
       "      <td>Kevin</td>\n",
       "    </tr>\n",
       "    <tr>\n",
       "      <th>last_name</th>\n",
       "      <td>Elowitz</td>\n",
       "      <td>Flaherty</td>\n",
       "      <td>Vegesna</td>\n",
       "      <td>Wenig</td>\n",
       "      <td>Rose</td>\n",
       "    </tr>\n",
       "    <tr>\n",
       "      <th>birthplace</th>\n",
       "      <td>NaN</td>\n",
       "      <td>NaN</td>\n",
       "      <td>NaN</td>\n",
       "      <td>NaN</td>\n",
       "      <td>Redding, CA</td>\n",
       "    </tr>\n",
       "    <tr>\n",
       "      <th>affiliation_name</th>\n",
       "      <td>Blue Nile</td>\n",
       "      <td>Wetpaint</td>\n",
       "      <td>Zoho</td>\n",
       "      <td>Zoho</td>\n",
       "      <td>i/o Ventures</td>\n",
       "    </tr>\n",
       "  </tbody>\n",
       "</table>\n",
       "</div>"
      ],
      "text/plain": [
       "                          0         1        2      3             4\n",
       "id                        1         2        3      4             5\n",
       "object_id               p:2       p:3      p:4    p:5           p:6\n",
       "first_name              Ben     Kevin     Raju    Ian         Kevin\n",
       "last_name           Elowitz  Flaherty  Vegesna  Wenig          Rose\n",
       "birthplace              NaN       NaN      NaN    NaN   Redding, CA\n",
       "affiliation_name  Blue Nile  Wetpaint     Zoho   Zoho  i/o Ventures"
      ]
     },
     "execution_count": 5,
     "metadata": {},
     "output_type": "execute_result"
    }
   ],
   "source": [
    "removed = [\n",
    " 'entity_type',\n",
    " 'entity_id',\n",
    " 'parent_id',\n",
    " 'name',\n",
    " \n",
    " 'permalink',\n",
    "\n",
    "\n",
    "\n",
    " 'closed_at',\n",
    "\n",
    " 'homepage_url',\n",
    " 'twitter_username',\n",
    " 'logo_url',\n",
    " 'logo_width',\n",
    " 'logo_height',\n",
    " 'short_description',\n",
    " 'description',\n",
    " \n",
    "\n",
    " \n",
    "\n",
    " 'first_investment_at',\n",
    " 'last_investment_at',\n",
    " 'investment_rounds',\n",
    " 'invested_companies',\n",
    " 'first_funding_at',\n",
    " 'last_funding_at',\n",
    " 'funding_rounds',\n",
    " 'funding_total_usd',\n",
    " 'first_milestone_at',\n",
    " 'last_milestone_at',\n",
    " 'milestones',\n",
    " 'relationships',\n",
    " 'created_by',\n",
    " 'created_at',\n",
    " 'updated_at']\n",
    "keep = [x for x in list(df.columns) if x not in removed]\n",
    "df = df[keep]\n",
    "df.head().T"
   ]
  },
  {
   "cell_type": "code",
   "execution_count": null,
   "metadata": {},
   "outputs": [],
   "source": []
  }
 ],
 "metadata": {
  "kernelspec": {
   "display_name": "Python 3",
   "language": "python",
   "name": "python3"
  },
  "language_info": {
   "codemirror_mode": {
    "name": "ipython",
    "version": 3
   },
   "file_extension": ".py",
   "mimetype": "text/x-python",
   "name": "python",
   "nbconvert_exporter": "python",
   "pygments_lexer": "ipython3",
   "version": "3.6.4"
  }
 },
 "nbformat": 4,
 "nbformat_minor": 2
}
