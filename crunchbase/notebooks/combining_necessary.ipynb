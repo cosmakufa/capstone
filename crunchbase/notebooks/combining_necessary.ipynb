{
 "cells": [
  {
   "cell_type": "code",
   "execution_count": 1,
   "metadata": {},
   "outputs": [],
   "source": [
    "import sys\n",
    "sys.path.append(\"..\")"
   ]
  },
  {
   "cell_type": "code",
   "execution_count": 2,
   "metadata": {},
   "outputs": [],
   "source": [
    "from src.combining_info import *"
   ]
  },
  {
   "cell_type": "code",
   "execution_count": 3,
   "metadata": {},
   "outputs": [],
   "source": [
    "import pandas as pd"
   ]
  },
  {
   "cell_type": "code",
   "execution_count": 13,
   "metadata": {},
   "outputs": [
    {
     "name": "stdout",
     "output_type": "stream",
     "text": [
      "<class 'pandas.core.frame.DataFrame'>\n",
      "RangeIndex: 9562 entries, 0 to 9561\n",
      "Data columns (total 4 columns):\n",
      "acquisition_id        9562 non-null int64\n",
      "acquired_object_id    9561 non-null object\n",
      "price_amount          2601 non-null float64\n",
      "acquired_at           9533 non-null datetime64[ns]\n",
      "dtypes: datetime64[ns](1), float64(1), int64(1), object(1)\n",
      "memory usage: 298.9+ KB\n"
     ]
    }
   ],
   "source": [
    "df_acq = get_acquisitions_df()\n",
    "df_acq.info()"
   ]
  },
  {
   "cell_type": "code",
   "execution_count": 12,
   "metadata": {},
   "outputs": [
    {
     "name": "stdout",
     "output_type": "stream",
     "text": [
      "<class 'pandas.core.frame.DataFrame'>\n",
      "RangeIndex: 52928 entries, 0 to 52927\n",
      "Data columns (total 7 columns):\n",
      "funding_round_id      52928 non-null int64\n",
      "object_id             52928 non-null object\n",
      "funded_at             52680 non-null datetime64[ns]\n",
      "funding_round_code    52928 non-null object\n",
      "raised_amount_usd     46928 non-null float64\n",
      "participants          52928 non-null int64\n",
      "is_first_round        52928 non-null int64\n",
      "dtypes: datetime64[ns](1), float64(1), int64(3), object(2)\n",
      "memory usage: 2.8+ MB\n"
     ]
    }
   ],
   "source": [
    "df_round = get_funding_rounds_df()\n",
    "df_round.info()"
   ]
  },
  {
   "cell_type": "code",
   "execution_count": 6,
   "metadata": {},
   "outputs": [
    {
     "name": "stdout",
     "output_type": "stream",
     "text": [
      "<class 'pandas.core.frame.DataFrame'>\n",
      "RangeIndex: 1564 entries, 0 to 1563\n",
      "Data columns (total 4 columns):\n",
      "fund_id      1564 non-null int64\n",
      "object_id    1564 non-null object\n",
      "name         1564 non-null object\n",
      "funded_at    1449 non-null datetime64[ns]\n",
      "dtypes: datetime64[ns](1), int64(1), object(2)\n",
      "memory usage: 49.0+ KB\n"
     ]
    }
   ],
   "source": [
    "df_fund = get_funds_df()\n",
    "df_fund.info()"
   ]
  },
  {
   "cell_type": "code",
   "execution_count": 7,
   "metadata": {},
   "outputs": [
    {
     "name": "stdout",
     "output_type": "stream",
     "text": [
      "<class 'pandas.core.frame.DataFrame'>\n",
      "RangeIndex: 80902 entries, 0 to 80901\n",
      "Data columns (total 3 columns):\n",
      "funding_round_id      80902 non-null int64\n",
      "funded_object_id      80902 non-null object\n",
      "investor_object_id    80902 non-null object\n",
      "dtypes: int64(1), object(2)\n",
      "memory usage: 1.9+ MB\n"
     ]
    }
   ],
   "source": [
    "df_invest = get_investments_df()\n",
    "df_invest.info()"
   ]
  },
  {
   "cell_type": "code",
   "execution_count": 8,
   "metadata": {},
   "outputs": [
    {
     "name": "stdout",
     "output_type": "stream",
     "text": [
      "<class 'pandas.core.frame.DataFrame'>\n",
      "RangeIndex: 1259 entries, 0 to 1258\n",
      "Data columns (total 2 columns):\n",
      "ipo_id       1259 non-null int64\n",
      "object_id    1254 non-null object\n",
      "dtypes: int64(1), object(1)\n",
      "memory usage: 19.8+ KB\n"
     ]
    }
   ],
   "source": [
    "df_ipo = get_ipos_df()\n",
    "df_ipo.info()"
   ]
  },
  {
   "cell_type": "code",
   "execution_count": 9,
   "metadata": {},
   "outputs": [
    {
     "name": "stdout",
     "output_type": "stream",
     "text": [
      "<class 'pandas.core.frame.DataFrame'>\n",
      "RangeIndex: 39456 entries, 0 to 39455\n",
      "Data columns (total 3 columns):\n",
      "object_id       39456 non-null object\n",
      "milestone_at    39456 non-null object\n",
      "description     39456 non-null object\n",
      "dtypes: object(3)\n",
      "memory usage: 924.8+ KB\n"
     ]
    }
   ],
   "source": [
    "df_mile = get_milestones_df()\n",
    "df_mile.info()"
   ]
  },
  {
   "cell_type": "code",
   "execution_count": 10,
   "metadata": {},
   "outputs": [
    {
     "name": "stderr",
     "output_type": "stream",
     "text": [
      "/Users/cosmakufa/anaconda3/lib/python3.6/site-packages/IPython/core/interactiveshell.py:2850: DtypeWarning: Columns (3,7,9,10,17,18,21,22,23,25,26,29,30,37) have mixed types. Specify dtype option on import or set low_memory=False.\n",
      "  if self.run_code(code, result):\n"
     ]
    },
    {
     "name": "stdout",
     "output_type": "stream",
     "text": [
      "<class 'pandas.core.frame.DataFrame'>\n",
      "RangeIndex: 462651 entries, 0 to 462650\n",
      "Data columns (total 12 columns):\n",
      "id                 462651 non-null object\n",
      "normalized_name    462620 non-null object\n",
      "category_code      123186 non-null object\n",
      "status             462651 non-null object\n",
      "founded_at         100441 non-null object\n",
      "domain             174942 non-null object\n",
      "overview           235235 non-null object\n",
      "tag_list           106496 non-null object\n",
      "country_code       95043 non-null object\n",
      "state_code         54760 non-null object\n",
      "city               90684 non-null object\n",
      "region             462651 non-null object\n",
      "dtypes: object(12)\n",
      "memory usage: 42.4+ MB\n"
     ]
    }
   ],
   "source": [
    "df_object = get_objects_df()\n",
    "df_object.info()"
   ]
  },
  {
   "cell_type": "code",
   "execution_count": 11,
   "metadata": {},
   "outputs": [
    {
     "name": "stdout",
     "output_type": "stream",
     "text": [
      "<class 'pandas.core.frame.DataFrame'>\n",
      "RangeIndex: 402878 entries, 0 to 402877\n",
      "Data columns (total 6 columns):\n",
      "person_object_id          402878 non-null object\n",
      "relationship_object_id    402878 non-null object\n",
      "start_at                  206995 non-null datetime64[ns]\n",
      "end_at                    101046 non-null datetime64[ns]\n",
      "is_past                   402878 non-null int64\n",
      "title                     389534 non-null object\n",
      "dtypes: datetime64[ns](2), int64(1), object(3)\n",
      "memory usage: 18.4+ MB\n"
     ]
    }
   ],
   "source": [
    "df_relate = get_relationships_df()\n",
    "df_relate.info()"
   ]
  },
  {
   "cell_type": "code",
   "execution_count": null,
   "metadata": {},
   "outputs": [],
   "source": []
  }
 ],
 "metadata": {
  "kernelspec": {
   "display_name": "Python 3",
   "language": "python",
   "name": "python3"
  },
  "language_info": {
   "codemirror_mode": {
    "name": "ipython",
    "version": 3
   },
   "file_extension": ".py",
   "mimetype": "text/x-python",
   "name": "python",
   "nbconvert_exporter": "python",
   "pygments_lexer": "ipython3",
   "version": "3.6.4"
  }
 },
 "nbformat": 4,
 "nbformat_minor": 2
}
