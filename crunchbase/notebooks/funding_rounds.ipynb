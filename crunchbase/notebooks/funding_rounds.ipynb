{
 "cells": [
  {
   "cell_type": "code",
   "execution_count": 1,
   "metadata": {},
   "outputs": [],
   "source": [
    "import pandas as pd\n",
    "import matplotlib.pyplot as plt\n",
    "%matplotlib inline\n",
    "\n",
    "\n",
    "df = pd.read_csv('../data/cb_funding_rounds.csv')"
   ]
  },
  {
   "cell_type": "code",
   "execution_count": 2,
   "metadata": {},
   "outputs": [],
   "source": [
    "import sys\n",
    "sys.path.append(\"..\")\n",
    "from src.combining_info import *\n",
    "import pandas as pd"
   ]
  },
  {
   "cell_type": "code",
   "execution_count": null,
   "metadata": {},
   "outputs": [],
   "source": [
    "df.head().T"
   ]
  },
  {
   "cell_type": "code",
   "execution_count": null,
   "metadata": {},
   "outputs": [],
   "source": [
    "df.info()"
   ]
  },
  {
   "cell_type": "code",
   "execution_count": null,
   "metadata": {},
   "outputs": [],
   "source": [
    "df['raised_currency_code'].unique()"
   ]
  },
  {
   "cell_type": "code",
   "execution_count": null,
   "metadata": {},
   "outputs": [],
   "source": [
    "list(df.columns)"
   ]
  },
  {
   "cell_type": "code",
   "execution_count": null,
   "metadata": {},
   "outputs": [],
   "source": [
    "removed = ['id',\n",
    " \n",
    "\n",
    "\n",
    " 'funding_round_type',\n",
    "\n",
    "\n",
    " 'raised_amount',\n",
    " 'raised_currency_code',\n",
    " 'pre_money_valuation_usd',\n",
    " 'pre_money_valuation',\n",
    " 'pre_money_currency_code',\n",
    " 'post_money_valuation_usd',\n",
    " 'post_money_valuation',\n",
    " 'post_money_currency_code',\n",
    "\n",
    "\n",
    " 'is_last_round',\n",
    " 'source_url',\n",
    " 'source_description',\n",
    " 'created_by',\n",
    " 'created_at',\n",
    " 'updated_at']\n",
    "keep = [x for x in list(df.columns) if x not in removed]\n",
    "df = df[keep]\n",
    "df.head().T"
   ]
  },
  {
   "cell_type": "code",
   "execution_count": null,
   "metadata": {},
   "outputs": [],
   "source": [
    "keep\n"
   ]
  },
  {
   "cell_type": "code",
   "execution_count": 3,
   "metadata": {},
   "outputs": [],
   "source": [
    "def get_milestones(x, df):\n",
    "    date = x['funded_at']\n",
    "    object_id = x['object_id']\n",
    "    return len(df[(df['milestone_at'] < date) & (df['object_id'] == object_id)])\n",
    "\n"
   ]
  },
  {
   "cell_type": "code",
   "execution_count": 4,
   "metadata": {},
   "outputs": [],
   "source": [
    "def get_relationships(x, df):\n",
    "    date = x['funded_at']\n",
    "    object_id = x['object_id']\n",
    "    return len(df[(df['start_at'] < date) & (df['relationship_object_id'] == object_id)])\n",
    "    "
   ]
  },
  {
   "cell_type": "code",
   "execution_count": 7,
   "metadata": {},
   "outputs": [],
   "source": [
    "df = get_funding_rounds_df()\n",
    "df_miles = get_milestones_df()\n",
    "df_miles = df_miles[ ~(pd.isna(df_miles['milestone_at']))]\n",
    "df_relate = get_relationships_df()\n",
    "df_relate = df_relate[ ~(pd.isna(df_relate['start_at']))]"
   ]
  },
  {
   "cell_type": "code",
   "execution_count": null,
   "metadata": {},
   "outputs": [],
   "source": [
    "df['milestones_so_far'] = df.apply(get_milestones, df=df_miles, axis=1)\n",
    "df['relionships_so_far'] = df.apply(get_relationships, df=df_relate, axis=1)"
   ]
  },
  {
   "cell_type": "code",
   "execution_count": null,
   "metadata": {},
   "outputs": [],
   "source": []
  },
  {
   "cell_type": "code",
   "execution_count": null,
   "metadata": {},
   "outputs": [],
   "source": []
  },
  {
   "cell_type": "code",
   "execution_count": null,
   "metadata": {},
   "outputs": [],
   "source": []
  }
 ],
 "metadata": {
  "kernelspec": {
   "display_name": "Python 3",
   "language": "python",
   "name": "python3"
  },
  "language_info": {
   "codemirror_mode": {
    "name": "ipython",
    "version": 3
   },
   "file_extension": ".py",
   "mimetype": "text/x-python",
   "name": "python",
   "nbconvert_exporter": "python",
   "pygments_lexer": "ipython3",
   "version": "3.6.4"
  }
 },
 "nbformat": 4,
 "nbformat_minor": 2
}
