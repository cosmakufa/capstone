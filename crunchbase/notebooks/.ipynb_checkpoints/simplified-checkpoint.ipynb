{
 "cells": [
  {
   "cell_type": "code",
   "execution_count": 8,
   "metadata": {},
   "outputs": [],
   "source": [
    "from src.functions import *"
   ]
  },
  {
   "cell_type": "code",
   "execution_count": 15,
   "metadata": {},
   "outputs": [
    {
     "name": "stderr",
     "output_type": "stream",
     "text": [
      "/Users/cosmakufa/anaconda3/lib/python3.6/site-packages/IPython/core/interactiveshell.py:2910: DtypeWarning: Columns (3,7,9,10,17,18,21,22,23,25,26,29,30,37) have mixed types. Specify dtype option on import or set low_memory=False.\n",
      "  exec(code_obj, self.user_global_ns, self.user_ns)\n"
     ]
    },
    {
     "name": "stdout",
     "output_type": "stream",
     "text": [
      "(13452, 7) (13452,)\n"
     ]
    }
   ],
   "source": [
    "(X,y, y_proba)= current_flow()"
   ]
  },
  {
   "cell_type": "code",
   "execution_count": 16,
   "metadata": {},
   "outputs": [
    {
     "name": "stdout",
     "output_type": "stream",
     "text": [
      "<class 'pandas.core.frame.DataFrame'>\n",
      "Index: 13452 entries, c:10 to r:9404\n",
      "Data columns (total 7 columns):\n",
      "id                    13452 non-null float64\n",
      "investment_rounds     13452 non-null float64\n",
      "invested_companies    13452 non-null float64\n",
      "funding_rounds        13452 non-null float64\n",
      "funding_total_usd     13452 non-null float64\n",
      "milestones            13452 non-null float64\n",
      "relationships         13452 non-null float64\n",
      "dtypes: float64(7)\n",
      "memory usage: 840.8+ KB\n"
     ]
    }
   ],
   "source": [
    "X.info()"
   ]
  },
  {
   "cell_type": "code",
   "execution_count": 17,
   "metadata": {},
   "outputs": [
    {
     "data": {
      "text/plain": [
       "1    10679\n",
       "0     2773\n",
       "Name: target, dtype: int64"
      ]
     },
     "execution_count": 17,
     "metadata": {},
     "output_type": "execute_result"
    }
   ],
   "source": [
    "y.value_counts()"
   ]
  },
  {
   "cell_type": "code",
   "execution_count": 18,
   "metadata": {},
   "outputs": [
    {
     "data": {
      "text/html": [
       "<div>\n",
       "<style scoped>\n",
       "    .dataframe tbody tr th:only-of-type {\n",
       "        vertical-align: middle;\n",
       "    }\n",
       "\n",
       "    .dataframe tbody tr th {\n",
       "        vertical-align: top;\n",
       "    }\n",
       "\n",
       "    .dataframe thead th {\n",
       "        text-align: right;\n",
       "    }\n",
       "</style>\n",
       "<table border=\"1\" class=\"dataframe\">\n",
       "  <thead>\n",
       "    <tr style=\"text-align: right;\">\n",
       "      <th></th>\n",
       "      <th>id</th>\n",
       "      <th>investment_rounds</th>\n",
       "      <th>invested_companies</th>\n",
       "      <th>funding_rounds</th>\n",
       "      <th>funding_total_usd</th>\n",
       "      <th>milestones</th>\n",
       "      <th>relationships</th>\n",
       "    </tr>\n",
       "  </thead>\n",
       "  <tbody>\n",
       "    <tr>\n",
       "      <th>c:10</th>\n",
       "      <td>631.168946</td>\n",
       "      <td>3.322857</td>\n",
       "      <td>2.86</td>\n",
       "      <td>1.750383</td>\n",
       "      <td>2.504158e+07</td>\n",
       "      <td>1.711087</td>\n",
       "      <td>6.00000</td>\n",
       "    </tr>\n",
       "    <tr>\n",
       "      <th>c:100</th>\n",
       "      <td>631.168946</td>\n",
       "      <td>3.322857</td>\n",
       "      <td>2.86</td>\n",
       "      <td>1.750383</td>\n",
       "      <td>2.504158e+07</td>\n",
       "      <td>4.000000</td>\n",
       "      <td>12.00000</td>\n",
       "    </tr>\n",
       "    <tr>\n",
       "      <th>c:1001</th>\n",
       "      <td>631.168946</td>\n",
       "      <td>3.322857</td>\n",
       "      <td>2.86</td>\n",
       "      <td>1.000000</td>\n",
       "      <td>5.000000e+06</td>\n",
       "      <td>3.000000</td>\n",
       "      <td>14.00000</td>\n",
       "    </tr>\n",
       "    <tr>\n",
       "      <th>c:10012</th>\n",
       "      <td>631.168946</td>\n",
       "      <td>3.322857</td>\n",
       "      <td>2.86</td>\n",
       "      <td>1.750383</td>\n",
       "      <td>2.504158e+07</td>\n",
       "      <td>1.711087</td>\n",
       "      <td>1.00000</td>\n",
       "    </tr>\n",
       "    <tr>\n",
       "      <th>c:10014</th>\n",
       "      <td>631.168946</td>\n",
       "      <td>3.322857</td>\n",
       "      <td>2.86</td>\n",
       "      <td>1.000000</td>\n",
       "      <td>2.504158e+07</td>\n",
       "      <td>4.000000</td>\n",
       "      <td>9.00000</td>\n",
       "    </tr>\n",
       "    <tr>\n",
       "      <th>c:100265</th>\n",
       "      <td>631.168946</td>\n",
       "      <td>3.322857</td>\n",
       "      <td>2.86</td>\n",
       "      <td>1.750383</td>\n",
       "      <td>2.504158e+07</td>\n",
       "      <td>1.000000</td>\n",
       "      <td>1.00000</td>\n",
       "    </tr>\n",
       "    <tr>\n",
       "      <th>c:1004</th>\n",
       "      <td>631.168946</td>\n",
       "      <td>3.322857</td>\n",
       "      <td>2.86</td>\n",
       "      <td>1.750383</td>\n",
       "      <td>2.504158e+07</td>\n",
       "      <td>3.000000</td>\n",
       "      <td>2.00000</td>\n",
       "    </tr>\n",
       "    <tr>\n",
       "      <th>c:10049</th>\n",
       "      <td>631.168946</td>\n",
       "      <td>3.322857</td>\n",
       "      <td>2.86</td>\n",
       "      <td>1.750383</td>\n",
       "      <td>2.504158e+07</td>\n",
       "      <td>1.711087</td>\n",
       "      <td>1.00000</td>\n",
       "    </tr>\n",
       "    <tr>\n",
       "      <th>c:10054</th>\n",
       "      <td>631.168946</td>\n",
       "      <td>3.322857</td>\n",
       "      <td>2.86</td>\n",
       "      <td>7.000000</td>\n",
       "      <td>1.215000e+08</td>\n",
       "      <td>3.000000</td>\n",
       "      <td>45.00000</td>\n",
       "    </tr>\n",
       "    <tr>\n",
       "      <th>c:100589</th>\n",
       "      <td>631.168946</td>\n",
       "      <td>3.322857</td>\n",
       "      <td>2.86</td>\n",
       "      <td>1.750383</td>\n",
       "      <td>2.504158e+07</td>\n",
       "      <td>1.711087</td>\n",
       "      <td>7.72276</td>\n",
       "    </tr>\n",
       "    <tr>\n",
       "      <th>c:1006</th>\n",
       "      <td>631.168946</td>\n",
       "      <td>3.322857</td>\n",
       "      <td>2.86</td>\n",
       "      <td>1.000000</td>\n",
       "      <td>2.504158e+07</td>\n",
       "      <td>1.711087</td>\n",
       "      <td>5.00000</td>\n",
       "    </tr>\n",
       "    <tr>\n",
       "      <th>c:10062</th>\n",
       "      <td>631.168946</td>\n",
       "      <td>3.322857</td>\n",
       "      <td>2.86</td>\n",
       "      <td>1.000000</td>\n",
       "      <td>2.504158e+07</td>\n",
       "      <td>2.000000</td>\n",
       "      <td>4.00000</td>\n",
       "    </tr>\n",
       "    <tr>\n",
       "      <th>c:1007</th>\n",
       "      <td>631.168946</td>\n",
       "      <td>3.322857</td>\n",
       "      <td>2.86</td>\n",
       "      <td>1.000000</td>\n",
       "      <td>3.000000e+06</td>\n",
       "      <td>2.000000</td>\n",
       "      <td>6.00000</td>\n",
       "    </tr>\n",
       "    <tr>\n",
       "      <th>c:100704</th>\n",
       "      <td>631.168946</td>\n",
       "      <td>3.322857</td>\n",
       "      <td>2.86</td>\n",
       "      <td>1.750383</td>\n",
       "      <td>2.504158e+07</td>\n",
       "      <td>1.711087</td>\n",
       "      <td>7.72276</td>\n",
       "    </tr>\n",
       "    <tr>\n",
       "      <th>c:100735</th>\n",
       "      <td>631.168946</td>\n",
       "      <td>3.322857</td>\n",
       "      <td>2.86</td>\n",
       "      <td>1.750383</td>\n",
       "      <td>2.504158e+07</td>\n",
       "      <td>1.711087</td>\n",
       "      <td>7.72276</td>\n",
       "    </tr>\n",
       "    <tr>\n",
       "      <th>c:100840</th>\n",
       "      <td>631.168946</td>\n",
       "      <td>3.322857</td>\n",
       "      <td>2.86</td>\n",
       "      <td>1.750383</td>\n",
       "      <td>2.504158e+07</td>\n",
       "      <td>1.711087</td>\n",
       "      <td>7.72276</td>\n",
       "    </tr>\n",
       "    <tr>\n",
       "      <th>c:100844</th>\n",
       "      <td>941.000000</td>\n",
       "      <td>3.322857</td>\n",
       "      <td>2.86</td>\n",
       "      <td>4.000000</td>\n",
       "      <td>1.050000e+07</td>\n",
       "      <td>1.000000</td>\n",
       "      <td>1.00000</td>\n",
       "    </tr>\n",
       "    <tr>\n",
       "      <th>c:10085</th>\n",
       "      <td>631.168946</td>\n",
       "      <td>1.000000</td>\n",
       "      <td>1.00</td>\n",
       "      <td>1.750383</td>\n",
       "      <td>2.504158e+07</td>\n",
       "      <td>1.000000</td>\n",
       "      <td>91.00000</td>\n",
       "    </tr>\n",
       "    <tr>\n",
       "      <th>c:10092</th>\n",
       "      <td>631.168946</td>\n",
       "      <td>3.322857</td>\n",
       "      <td>2.86</td>\n",
       "      <td>1.000000</td>\n",
       "      <td>1.000000e+05</td>\n",
       "      <td>1.000000</td>\n",
       "      <td>1.00000</td>\n",
       "    </tr>\n",
       "    <tr>\n",
       "      <th>c:100937</th>\n",
       "      <td>631.168946</td>\n",
       "      <td>3.322857</td>\n",
       "      <td>2.86</td>\n",
       "      <td>1.750383</td>\n",
       "      <td>2.504158e+07</td>\n",
       "      <td>1.711087</td>\n",
       "      <td>7.72276</td>\n",
       "    </tr>\n",
       "  </tbody>\n",
       "</table>\n",
       "</div>"
      ],
      "text/plain": [
       "                  id  investment_rounds  invested_companies  funding_rounds  \\\n",
       "c:10      631.168946           3.322857                2.86        1.750383   \n",
       "c:100     631.168946           3.322857                2.86        1.750383   \n",
       "c:1001    631.168946           3.322857                2.86        1.000000   \n",
       "c:10012   631.168946           3.322857                2.86        1.750383   \n",
       "c:10014   631.168946           3.322857                2.86        1.000000   \n",
       "c:100265  631.168946           3.322857                2.86        1.750383   \n",
       "c:1004    631.168946           3.322857                2.86        1.750383   \n",
       "c:10049   631.168946           3.322857                2.86        1.750383   \n",
       "c:10054   631.168946           3.322857                2.86        7.000000   \n",
       "c:100589  631.168946           3.322857                2.86        1.750383   \n",
       "c:1006    631.168946           3.322857                2.86        1.000000   \n",
       "c:10062   631.168946           3.322857                2.86        1.000000   \n",
       "c:1007    631.168946           3.322857                2.86        1.000000   \n",
       "c:100704  631.168946           3.322857                2.86        1.750383   \n",
       "c:100735  631.168946           3.322857                2.86        1.750383   \n",
       "c:100840  631.168946           3.322857                2.86        1.750383   \n",
       "c:100844  941.000000           3.322857                2.86        4.000000   \n",
       "c:10085   631.168946           1.000000                1.00        1.750383   \n",
       "c:10092   631.168946           3.322857                2.86        1.000000   \n",
       "c:100937  631.168946           3.322857                2.86        1.750383   \n",
       "\n",
       "          funding_total_usd  milestones  relationships  \n",
       "c:10           2.504158e+07    1.711087        6.00000  \n",
       "c:100          2.504158e+07    4.000000       12.00000  \n",
       "c:1001         5.000000e+06    3.000000       14.00000  \n",
       "c:10012        2.504158e+07    1.711087        1.00000  \n",
       "c:10014        2.504158e+07    4.000000        9.00000  \n",
       "c:100265       2.504158e+07    1.000000        1.00000  \n",
       "c:1004         2.504158e+07    3.000000        2.00000  \n",
       "c:10049        2.504158e+07    1.711087        1.00000  \n",
       "c:10054        1.215000e+08    3.000000       45.00000  \n",
       "c:100589       2.504158e+07    1.711087        7.72276  \n",
       "c:1006         2.504158e+07    1.711087        5.00000  \n",
       "c:10062        2.504158e+07    2.000000        4.00000  \n",
       "c:1007         3.000000e+06    2.000000        6.00000  \n",
       "c:100704       2.504158e+07    1.711087        7.72276  \n",
       "c:100735       2.504158e+07    1.711087        7.72276  \n",
       "c:100840       2.504158e+07    1.711087        7.72276  \n",
       "c:100844       1.050000e+07    1.000000        1.00000  \n",
       "c:10085        2.504158e+07    1.000000       91.00000  \n",
       "c:10092        1.000000e+05    1.000000        1.00000  \n",
       "c:100937       2.504158e+07    1.711087        7.72276  "
      ]
     },
     "execution_count": 18,
     "metadata": {},
     "output_type": "execute_result"
    }
   ],
   "source": [
    "X.head(20)"
   ]
  },
  {
   "cell_type": "code",
   "execution_count": 19,
   "metadata": {},
   "outputs": [],
   "source": [
    "import matplotlib.pyplot as plt\n",
    "%matplotlib inline"
   ]
  },
  {
   "cell_type": "code",
   "execution_count": 21,
   "metadata": {},
   "outputs": [
    {
     "name": "stderr",
     "output_type": "stream",
     "text": [
      "/Users/cosmakufa/anaconda3/lib/python3.6/site-packages/sklearn/metrics/classification.py:1135: UndefinedMetricWarning: F-score is ill-defined and being set to 0.0 due to no predicted samples.\n",
      "  'precision', 'predicted', average, warn_for)\n"
     ]
    },
    {
     "data": {
      "image/png": "[encoded data removed]",
      "text/plain": [
       "<matplotlib.figure.Figure at 0x1a22922550>"
      ]
     },
     "metadata": {},
     "output_type": "display_data"
    }
   ],
   "source": [
    "x_plot, y_plot = my_roc_curve(y, y_proba)\n",
    "plt.plot(x_plot,y_plot['f1']);\n",
    "plt.plot(x_plot,y_plot['precision']);\n",
    "plt.plot(x_plot,y_plot['recall']);\n"
   ]
  },
  {
   "cell_type": "code",
   "execution_count": null,
   "metadata": {},
   "outputs": [],
   "source": []
  },
  {
   "cell_type": "code",
   "execution_count": null,
   "metadata": {},
   "outputs": [],
   "source": []
  }
 ],
 "metadata": {
  "kernelspec": {
   "display_name": "Python 3",
   "language": "python",
   "name": "python3"
  },
  "language_info": {
   "codemirror_mode": {
    "name": "ipython",
    "version": 3
   },
   "file_extension": ".py",
   "mimetype": "text/x-python",
   "name": "python",
   "nbconvert_exporter": "python",
   "pygments_lexer": "ipython3",
   "version": "3.6.4"
  }
 },
 "nbformat": 4,
 "nbformat_minor": 2
}
