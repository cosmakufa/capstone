{
 "cells": [
  {
   "cell_type": "code",
   "execution_count": 8,
   "metadata": {},
   "outputs": [],
   "source": [
    "import pandas as pd\n",
    "import numpy as np\n",
    "import matplotlib.pyplot as plt\n",
    "%matplotlib inline\n"
   ]
  },
  {
   "cell_type": "code",
   "execution_count": 13,
   "metadata": {},
   "outputs": [
    {
     "name": "stderr",
     "output_type": "stream",
     "text": [
      "/Users/cosmakufa/anaconda3/lib/python3.6/site-packages/IPython/core/interactiveshell.py:2728: DtypeWarning: Columns (3,7,10,17,18,21,22,23,25,26,29,30,37) have mixed types. Specify dtype option on import or set low_memory=False.\n",
      "  interactivity=interactivity, compiler=compiler, result=result)\n"
     ]
    }
   ],
   "source": [
    "df_objects = pd.read_csv('data/cb_objects.csv', parse_dates=['founded_at'])\n",
    "df_ipo = pd.read_csv('data/cb_ipos.csv')\n",
    "df_acquisitions = pd.read_csv('data/cb_acquisitions.csv')"
   ]
  },
  {
   "cell_type": "code",
   "execution_count": 10,
   "metadata": {},
   "outputs": [],
   "source": [
    "keep =[  'parent_id', \n",
    "       'normalized_name', 'category_code',  'founded_at',\n",
    "        'domain', 'twitter_username',\n",
    "        'short_description', 'description',\n",
    "       'overview', 'tag_list', 'country_code', 'state_code', 'city', 'region',\n",
    "       'first_investment_at', 'last_investment_at', 'investment_rounds',\n",
    "       'invested_companies', 'first_funding_at', 'last_funding_at',\n",
    "       'funding_rounds', 'funding_total_usd', 'first_milestone_at',\n",
    "       'last_milestone_at', 'milestones', 'relationships',\n",
    "       ]\n",
    "keeps =[  'parent_id', \n",
    "       'normalized_name', 'category_code',  'founded_at',\n",
    "        'domain', 'twitter_username',\n",
    "        'short_description', 'description',\n",
    "       'overview', 'tag_list', 'country_code', 'state_code', 'city', 'region','status',\n",
    "       'first_investment_at', 'last_investment_at', 'investment_rounds',\n",
    "       'invested_companies', 'first_funding_at', 'last_funding_at',\n",
    "       'funding_rounds', 'funding_total_usd', 'first_milestone_at',\n",
    "       'last_milestone_at', 'milestones', 'relationships',\n",
    "       ]\n",
    "removed = ['id', 'entity_type', 'entity_id', 'name', 'permalink',  'closed_at', 'homepage_url',  'logo_url', 'logo_width', 'logo_height','created_by', 'created_at', 'updated_at']"
   ]
  },
  {
   "cell_type": "code",
   "execution_count": 11,
   "metadata": {},
   "outputs": [
    {
     "data": {
      "text/plain": [
       "operating      0.958958\n",
       "acquired       0.020305\n",
       "live           0.009400\n",
       "closed         0.005994\n",
       "ipo            0.002451\n",
       "beta           0.001686\n",
       "development    0.000488\n",
       "private        0.000473\n",
       "alpha          0.000244\n",
       "Name: status, dtype: float64"
      ]
     },
     "execution_count": 11,
     "metadata": {},
     "output_type": "execute_result"
    }
   ],
   "source": [
    "df_objects.status.value_counts(1)"
   ]
  },
  {
   "cell_type": "code",
   "execution_count": 14,
   "metadata": {},
   "outputs": [
    {
     "data": {
      "text/html": [
       "<div>\n",
       "<style scoped>\n",
       "    .dataframe tbody tr th:only-of-type {\n",
       "        vertical-align: middle;\n",
       "    }\n",
       "\n",
       "    .dataframe tbody tr th {\n",
       "        vertical-align: top;\n",
       "    }\n",
       "\n",
       "    .dataframe thead th {\n",
       "        text-align: right;\n",
       "    }\n",
       "</style>\n",
       "<table border=\"1\" class=\"dataframe\">\n",
       "  <thead>\n",
       "    <tr style=\"text-align: right;\">\n",
       "      <th></th>\n",
       "      <th>0</th>\n",
       "      <th>1</th>\n",
       "      <th>2</th>\n",
       "      <th>3</th>\n",
       "      <th>4</th>\n",
       "    </tr>\n",
       "  </thead>\n",
       "  <tbody>\n",
       "    <tr>\n",
       "      <th>parent_id</th>\n",
       "      <td>NaN</td>\n",
       "      <td>NaN</td>\n",
       "      <td>NaN</td>\n",
       "      <td>NaN</td>\n",
       "      <td>NaN</td>\n",
       "    </tr>\n",
       "    <tr>\n",
       "      <th>normalized_name</th>\n",
       "      <td>wetpaint</td>\n",
       "      <td>flektor</td>\n",
       "      <td>there</td>\n",
       "      <td>mywebbo</td>\n",
       "      <td>the movie streamer</td>\n",
       "    </tr>\n",
       "    <tr>\n",
       "      <th>category_code</th>\n",
       "      <td>web</td>\n",
       "      <td>games_video</td>\n",
       "      <td>games_video</td>\n",
       "      <td>network_hosting</td>\n",
       "      <td>games_video</td>\n",
       "    </tr>\n",
       "    <tr>\n",
       "      <th>founded_at</th>\n",
       "      <td>2005-10-17 00:00:00</td>\n",
       "      <td>NaT</td>\n",
       "      <td>NaT</td>\n",
       "      <td>2008-07-26 00:00:00</td>\n",
       "      <td>2008-07-26 00:00:00</td>\n",
       "    </tr>\n",
       "    <tr>\n",
       "      <th>domain</th>\n",
       "      <td>wetpaint-inc.com</td>\n",
       "      <td>flektor.com</td>\n",
       "      <td>there.com</td>\n",
       "      <td>mywebbo.com</td>\n",
       "      <td>themoviestreamer.com</td>\n",
       "    </tr>\n",
       "    <tr>\n",
       "      <th>twitter_username</th>\n",
       "      <td>BachelrWetpaint</td>\n",
       "      <td>NaN</td>\n",
       "      <td>NaN</td>\n",
       "      <td>NaN</td>\n",
       "      <td>NaN</td>\n",
       "    </tr>\n",
       "    <tr>\n",
       "      <th>short_description</th>\n",
       "      <td>NaN</td>\n",
       "      <td>NaN</td>\n",
       "      <td>NaN</td>\n",
       "      <td>NaN</td>\n",
       "      <td>NaN</td>\n",
       "    </tr>\n",
       "    <tr>\n",
       "      <th>description</th>\n",
       "      <td>Technology Platform Company</td>\n",
       "      <td>NaN</td>\n",
       "      <td>NaN</td>\n",
       "      <td>NaN</td>\n",
       "      <td>NaN</td>\n",
       "    </tr>\n",
       "    <tr>\n",
       "      <th>overview</th>\n",
       "      <td>Wetpaint is a technology platform company that...</td>\n",
       "      <td>Flektor is a rich-media mash-up platform that ...</td>\n",
       "      <td>There.com is an online virtual world where any...</td>\n",
       "      <td>BRAND NEW ONLINE SOCIAL NETWORKING WEBSITE,FOR...</td>\n",
       "      <td>This company shows free movies online on their...</td>\n",
       "    </tr>\n",
       "    <tr>\n",
       "      <th>tag_list</th>\n",
       "      <td>wiki, seattle, elowitz, media-industry, media-...</td>\n",
       "      <td>flektor, photo, video</td>\n",
       "      <td>virtualworld, there, teens</td>\n",
       "      <td>social-network, new, website, web, friends, ch...</td>\n",
       "      <td>watch, full-length, moives, online, for, free,...</td>\n",
       "    </tr>\n",
       "    <tr>\n",
       "      <th>country_code</th>\n",
       "      <td>USA</td>\n",
       "      <td>USA</td>\n",
       "      <td>USA</td>\n",
       "      <td>NaN</td>\n",
       "      <td>NaN</td>\n",
       "    </tr>\n",
       "    <tr>\n",
       "      <th>state_code</th>\n",
       "      <td>WA</td>\n",
       "      <td>CA</td>\n",
       "      <td>CA</td>\n",
       "      <td>NaN</td>\n",
       "      <td>NaN</td>\n",
       "    </tr>\n",
       "    <tr>\n",
       "      <th>city</th>\n",
       "      <td>Seattle</td>\n",
       "      <td>Culver City</td>\n",
       "      <td>San Mateo</td>\n",
       "      <td>NaN</td>\n",
       "      <td>NaN</td>\n",
       "    </tr>\n",
       "    <tr>\n",
       "      <th>region</th>\n",
       "      <td>Seattle</td>\n",
       "      <td>Los Angeles</td>\n",
       "      <td>SF Bay</td>\n",
       "      <td>unknown</td>\n",
       "      <td>unknown</td>\n",
       "    </tr>\n",
       "    <tr>\n",
       "      <th>status</th>\n",
       "      <td>operating</td>\n",
       "      <td>acquired</td>\n",
       "      <td>acquired</td>\n",
       "      <td>operating</td>\n",
       "      <td>operating</td>\n",
       "    </tr>\n",
       "    <tr>\n",
       "      <th>first_investment_at</th>\n",
       "      <td>NaN</td>\n",
       "      <td>NaN</td>\n",
       "      <td>NaN</td>\n",
       "      <td>NaN</td>\n",
       "      <td>NaN</td>\n",
       "    </tr>\n",
       "    <tr>\n",
       "      <th>last_investment_at</th>\n",
       "      <td>NaN</td>\n",
       "      <td>NaN</td>\n",
       "      <td>NaN</td>\n",
       "      <td>NaN</td>\n",
       "      <td>NaN</td>\n",
       "    </tr>\n",
       "    <tr>\n",
       "      <th>investment_rounds</th>\n",
       "      <td>NaN</td>\n",
       "      <td>NaN</td>\n",
       "      <td>NaN</td>\n",
       "      <td>NaN</td>\n",
       "      <td>NaN</td>\n",
       "    </tr>\n",
       "    <tr>\n",
       "      <th>invested_companies</th>\n",
       "      <td>NaN</td>\n",
       "      <td>NaN</td>\n",
       "      <td>NaN</td>\n",
       "      <td>NaN</td>\n",
       "      <td>NaN</td>\n",
       "    </tr>\n",
       "    <tr>\n",
       "      <th>first_funding_at</th>\n",
       "      <td>2005-10-01</td>\n",
       "      <td>NaN</td>\n",
       "      <td>NaN</td>\n",
       "      <td>NaN</td>\n",
       "      <td>NaN</td>\n",
       "    </tr>\n",
       "    <tr>\n",
       "      <th>last_funding_at</th>\n",
       "      <td>2008-05-19</td>\n",
       "      <td>NaN</td>\n",
       "      <td>NaN</td>\n",
       "      <td>NaN</td>\n",
       "      <td>NaN</td>\n",
       "    </tr>\n",
       "    <tr>\n",
       "      <th>funding_rounds</th>\n",
       "      <td>3</td>\n",
       "      <td>NaN</td>\n",
       "      <td>NaN</td>\n",
       "      <td>NaN</td>\n",
       "      <td>NaN</td>\n",
       "    </tr>\n",
       "    <tr>\n",
       "      <th>funding_total_usd</th>\n",
       "      <td>3.975e+07</td>\n",
       "      <td>NaN</td>\n",
       "      <td>NaN</td>\n",
       "      <td>NaN</td>\n",
       "      <td>NaN</td>\n",
       "    </tr>\n",
       "    <tr>\n",
       "      <th>first_milestone_at</th>\n",
       "      <td>2010-09-05</td>\n",
       "      <td>NaN</td>\n",
       "      <td>2003-02-01</td>\n",
       "      <td>NaN</td>\n",
       "      <td>NaN</td>\n",
       "    </tr>\n",
       "    <tr>\n",
       "      <th>last_milestone_at</th>\n",
       "      <td>2013-09-18</td>\n",
       "      <td>NaN</td>\n",
       "      <td>2011-09-23</td>\n",
       "      <td>NaN</td>\n",
       "      <td>NaN</td>\n",
       "    </tr>\n",
       "    <tr>\n",
       "      <th>milestones</th>\n",
       "      <td>5</td>\n",
       "      <td>NaN</td>\n",
       "      <td>4</td>\n",
       "      <td>NaN</td>\n",
       "      <td>NaN</td>\n",
       "    </tr>\n",
       "    <tr>\n",
       "      <th>relationships</th>\n",
       "      <td>17</td>\n",
       "      <td>6</td>\n",
       "      <td>12</td>\n",
       "      <td>NaN</td>\n",
       "      <td>NaN</td>\n",
       "    </tr>\n",
       "  </tbody>\n",
       "</table>\n",
       "</div>"
      ],
      "text/plain": [
       "                                                                     0  \\\n",
       "parent_id                                                          NaN   \n",
       "normalized_name                                               wetpaint   \n",
       "category_code                                                      web   \n",
       "founded_at                                         2005-10-17 00:00:00   \n",
       "domain                                                wetpaint-inc.com   \n",
       "twitter_username                                       BachelrWetpaint   \n",
       "short_description                                                  NaN   \n",
       "description                                Technology Platform Company   \n",
       "overview             Wetpaint is a technology platform company that...   \n",
       "tag_list             wiki, seattle, elowitz, media-industry, media-...   \n",
       "country_code                                                       USA   \n",
       "state_code                                                          WA   \n",
       "city                                                           Seattle   \n",
       "region                                                         Seattle   \n",
       "status                                                       operating   \n",
       "first_investment_at                                                NaN   \n",
       "last_investment_at                                                 NaN   \n",
       "investment_rounds                                                  NaN   \n",
       "invested_companies                                                 NaN   \n",
       "first_funding_at                                            2005-10-01   \n",
       "last_funding_at                                             2008-05-19   \n",
       "funding_rounds                                                       3   \n",
       "funding_total_usd                                            3.975e+07   \n",
       "first_milestone_at                                          2010-09-05   \n",
       "last_milestone_at                                           2013-09-18   \n",
       "milestones                                                           5   \n",
       "relationships                                                       17   \n",
       "\n",
       "                                                                     1  \\\n",
       "parent_id                                                          NaN   \n",
       "normalized_name                                                flektor   \n",
       "category_code                                              games_video   \n",
       "founded_at                                                         NaT   \n",
       "domain                                                     flektor.com   \n",
       "twitter_username                                                   NaN   \n",
       "short_description                                                  NaN   \n",
       "description                                                        NaN   \n",
       "overview             Flektor is a rich-media mash-up platform that ...   \n",
       "tag_list                                         flektor, photo, video   \n",
       "country_code                                                       USA   \n",
       "state_code                                                          CA   \n",
       "city                                                       Culver City   \n",
       "region                                                     Los Angeles   \n",
       "status                                                        acquired   \n",
       "first_investment_at                                                NaN   \n",
       "last_investment_at                                                 NaN   \n",
       "investment_rounds                                                  NaN   \n",
       "invested_companies                                                 NaN   \n",
       "first_funding_at                                                   NaN   \n",
       "last_funding_at                                                    NaN   \n",
       "funding_rounds                                                     NaN   \n",
       "funding_total_usd                                                  NaN   \n",
       "first_milestone_at                                                 NaN   \n",
       "last_milestone_at                                                  NaN   \n",
       "milestones                                                         NaN   \n",
       "relationships                                                        6   \n",
       "\n",
       "                                                                     2  \\\n",
       "parent_id                                                          NaN   \n",
       "normalized_name                                                  there   \n",
       "category_code                                              games_video   \n",
       "founded_at                                                         NaT   \n",
       "domain                                                       there.com   \n",
       "twitter_username                                                   NaN   \n",
       "short_description                                                  NaN   \n",
       "description                                                        NaN   \n",
       "overview             There.com is an online virtual world where any...   \n",
       "tag_list                                    virtualworld, there, teens   \n",
       "country_code                                                       USA   \n",
       "state_code                                                          CA   \n",
       "city                                                         San Mateo   \n",
       "region                                                          SF Bay   \n",
       "status                                                        acquired   \n",
       "first_investment_at                                                NaN   \n",
       "last_investment_at                                                 NaN   \n",
       "investment_rounds                                                  NaN   \n",
       "invested_companies                                                 NaN   \n",
       "first_funding_at                                                   NaN   \n",
       "last_funding_at                                                    NaN   \n",
       "funding_rounds                                                     NaN   \n",
       "funding_total_usd                                                  NaN   \n",
       "first_milestone_at                                          2003-02-01   \n",
       "last_milestone_at                                           2011-09-23   \n",
       "milestones                                                           4   \n",
       "relationships                                                       12   \n",
       "\n",
       "                                                                     3  \\\n",
       "parent_id                                                          NaN   \n",
       "normalized_name                                                mywebbo   \n",
       "category_code                                          network_hosting   \n",
       "founded_at                                         2008-07-26 00:00:00   \n",
       "domain                                                     mywebbo.com   \n",
       "twitter_username                                                   NaN   \n",
       "short_description                                                  NaN   \n",
       "description                                                        NaN   \n",
       "overview             BRAND NEW ONLINE SOCIAL NETWORKING WEBSITE,FOR...   \n",
       "tag_list             social-network, new, website, web, friends, ch...   \n",
       "country_code                                                       NaN   \n",
       "state_code                                                         NaN   \n",
       "city                                                               NaN   \n",
       "region                                                         unknown   \n",
       "status                                                       operating   \n",
       "first_investment_at                                                NaN   \n",
       "last_investment_at                                                 NaN   \n",
       "investment_rounds                                                  NaN   \n",
       "invested_companies                                                 NaN   \n",
       "first_funding_at                                                   NaN   \n",
       "last_funding_at                                                    NaN   \n",
       "funding_rounds                                                     NaN   \n",
       "funding_total_usd                                                  NaN   \n",
       "first_milestone_at                                                 NaN   \n",
       "last_milestone_at                                                  NaN   \n",
       "milestones                                                         NaN   \n",
       "relationships                                                      NaN   \n",
       "\n",
       "                                                                     4  \n",
       "parent_id                                                          NaN  \n",
       "normalized_name                                     the movie streamer  \n",
       "category_code                                              games_video  \n",
       "founded_at                                         2008-07-26 00:00:00  \n",
       "domain                                            themoviestreamer.com  \n",
       "twitter_username                                                   NaN  \n",
       "short_description                                                  NaN  \n",
       "description                                                        NaN  \n",
       "overview             This company shows free movies online on their...  \n",
       "tag_list             watch, full-length, moives, online, for, free,...  \n",
       "country_code                                                       NaN  \n",
       "state_code                                                         NaN  \n",
       "city                                                               NaN  \n",
       "region                                                         unknown  \n",
       "status                                                       operating  \n",
       "first_investment_at                                                NaN  \n",
       "last_investment_at                                                 NaN  \n",
       "investment_rounds                                                  NaN  \n",
       "invested_companies                                                 NaN  \n",
       "first_funding_at                                                   NaN  \n",
       "last_funding_at                                                    NaN  \n",
       "funding_rounds                                                     NaN  \n",
       "funding_total_usd                                                  NaN  \n",
       "first_milestone_at                                                 NaN  \n",
       "last_milestone_at                                                  NaN  \n",
       "milestones                                                         NaN  \n",
       "relationships                                                      NaN  "
      ]
     },
     "execution_count": 14,
     "metadata": {},
     "output_type": "execute_result"
    }
   ],
   "source": [
    "df_objects[keeps].head().T"
   ]
  },
  {
   "cell_type": "code",
   "execution_count": 16,
   "metadata": {},
   "outputs": [],
   "source": [
    "df_objects['year'] = df_objects['founded_at'].apply( lambda x: x.year if x else x)"
   ]
  },
  {
   "cell_type": "code",
   "execution_count": 23,
   "metadata": {},
   "outputs": [
    {
     "data": {
      "text/plain": [
       "1        34\n",
       "3        14\n",
       "2        13\n",
       "7         5\n",
       "8         5\n",
       "6         4\n",
       "0         3\n",
       "4         3\n",
       "5         3\n",
       "32        3\n",
       "19        3\n",
       "14        2\n",
       "73        2\n",
       "25        2\n",
       "58        2\n",
       "23        2\n",
       "12        2\n",
       "9         2\n",
       "10        2\n",
       "15        1\n",
       "40        1\n",
       "55        1\n",
       "565       1\n",
       "52        1\n",
       "51        1\n",
       "293       1\n",
       "53041     1\n",
       "303       1\n",
       "7706      1\n",
       "43        1\n",
       "         ..\n",
       "212       1\n",
       "225       1\n",
       "53        1\n",
       "998       1\n",
       "1514      1\n",
       "752       1\n",
       "754       1\n",
       "399       1\n",
       "140       1\n",
       "3976      1\n",
       "1118      1\n",
       "320       1\n",
       "72        1\n",
       "75        1\n",
       "590       1\n",
       "79        1\n",
       "94        1\n",
       "600       1\n",
       "89        1\n",
       "101       1\n",
       "1157      1\n",
       "102       1\n",
       "359       1\n",
       "110       1\n",
       "116       1\n",
       "13        1\n",
       "121       1\n",
       "266       1\n",
       "127       1\n",
       "61        1\n",
       "Name: domain, Length: 90, dtype: int64"
      ]
     },
     "execution_count": 23,
     "metadata": {},
     "output_type": "execute_result"
    }
   ],
   "source": [
    "grouping.value_counts()"
   ]
  },
  {
   "cell_type": "code",
   "execution_count": 22,
   "metadata": {},
   "outputs": [
    {
     "data": {
      "image/png": "[encoded data removed]",
      "text/plain": [
       "<matplotlib.figure.Figure at 0x119868a58>"
      ]
     },
     "metadata": {},
     "output_type": "display_data"
    }
   ],
   "source": [
    "grouping = df_objects.groupby(['country_code']).count()['domain']\n",
    "\n",
    "grouping[(grouping > 2)].plot(kind=\"bar\", figsize=(20,10));"
   ]
  },
  {
   "cell_type": "code",
   "execution_count": 7,
   "metadata": {},
   "outputs": [
    {
     "data": {
      "text/plain": [
       "acquired    0.706263\n",
       "closed      0.208481\n",
       "ipo         0.085257\n",
       "Name: status, dtype: float64"
      ]
     },
     "execution_count": 7,
     "metadata": {},
     "output_type": "execute_result"
    }
   ],
   "source": [
    "df_objects = df_objects[(df_objects['status'].isin(['acquired','closed', 'ipo']))]\n",
    "df_objects.status.value_counts(1)"
   ]
  },
  {
   "cell_type": "code",
   "execution_count": null,
   "metadata": {},
   "outputs": [],
   "source": [
    "df_ipo.head()"
   ]
  },
  {
   "cell_type": "code",
   "execution_count": null,
   "metadata": {},
   "outputs": [],
   "source": [
    "df_acquisitions.head()"
   ]
  },
  {
   "cell_type": "code",
   "execution_count": 8,
   "metadata": {},
   "outputs": [],
   "source": [
    "df_joined = df_objects.set_index(\"id\").join(df_ipo.set_index(\"object_id\"), rsuffix=\"_ipo\").join(df_acquisitions.set_index(\"acquired_object_id\"),  rsuffix=\"_acq\")"
   ]
  },
  {
   "cell_type": "code",
   "execution_count": null,
   "metadata": {},
   "outputs": [],
   "source": [
    "df_joined.head().T"
   ]
  },
  {
   "cell_type": "code",
   "execution_count": 9,
   "metadata": {},
   "outputs": [],
   "source": [
    "target = df_joined.apply(lambda x: 0 if (pd.isnull(x['id_acq']) and pd.isnull(x['ipo_id']))  else 1, axis =1)"
   ]
  },
  {
   "cell_type": "code",
   "execution_count": null,
   "metadata": {},
   "outputs": [],
   "source": [
    "df_joined.info()"
   ]
  },
  {
   "cell_type": "code",
   "execution_count": null,
   "metadata": {},
   "outputs": [],
   "source": [
    "df_objects[keep].info()"
   ]
  },
  {
   "cell_type": "code",
   "execution_count": 10,
   "metadata": {},
   "outputs": [],
   "source": [
    "df_num = df_joined[keep]._get_numeric_data()"
   ]
  },
  {
   "cell_type": "code",
   "execution_count": 11,
   "metadata": {},
   "outputs": [],
   "source": [
    "df_num = df_num.fillna(df_num.mean())"
   ]
  },
  {
   "cell_type": "code",
   "execution_count": 12,
   "metadata": {},
   "outputs": [
    {
     "data": {
      "text/html": [
       "<div>\n",
       "<style scoped>\n",
       "    .dataframe tbody tr th:only-of-type {\n",
       "        vertical-align: middle;\n",
       "    }\n",
       "\n",
       "    .dataframe tbody tr th {\n",
       "        vertical-align: top;\n",
       "    }\n",
       "\n",
       "    .dataframe thead th {\n",
       "        text-align: right;\n",
       "    }\n",
       "</style>\n",
       "<table border=\"1\" class=\"dataframe\">\n",
       "  <thead>\n",
       "    <tr style=\"text-align: right;\">\n",
       "      <th></th>\n",
       "      <th>c:10</th>\n",
       "      <th>c:100</th>\n",
       "      <th>c:1001</th>\n",
       "      <th>c:10012</th>\n",
       "      <th>c:10014</th>\n",
       "    </tr>\n",
       "  </thead>\n",
       "  <tbody>\n",
       "    <tr>\n",
       "      <th>investment_rounds</th>\n",
       "      <td>3.322857e+00</td>\n",
       "      <td>3.322857e+00</td>\n",
       "      <td>3.322857e+00</td>\n",
       "      <td>3.322857e+00</td>\n",
       "      <td>3.322857e+00</td>\n",
       "    </tr>\n",
       "    <tr>\n",
       "      <th>invested_companies</th>\n",
       "      <td>2.860000e+00</td>\n",
       "      <td>2.860000e+00</td>\n",
       "      <td>2.860000e+00</td>\n",
       "      <td>2.860000e+00</td>\n",
       "      <td>2.860000e+00</td>\n",
       "    </tr>\n",
       "    <tr>\n",
       "      <th>funding_rounds</th>\n",
       "      <td>1.750383e+00</td>\n",
       "      <td>1.750383e+00</td>\n",
       "      <td>1.000000e+00</td>\n",
       "      <td>1.750383e+00</td>\n",
       "      <td>1.000000e+00</td>\n",
       "    </tr>\n",
       "    <tr>\n",
       "      <th>funding_total_usd</th>\n",
       "      <td>2.504158e+07</td>\n",
       "      <td>2.504158e+07</td>\n",
       "      <td>5.000000e+06</td>\n",
       "      <td>2.504158e+07</td>\n",
       "      <td>2.504158e+07</td>\n",
       "    </tr>\n",
       "    <tr>\n",
       "      <th>milestones</th>\n",
       "      <td>1.711087e+00</td>\n",
       "      <td>4.000000e+00</td>\n",
       "      <td>3.000000e+00</td>\n",
       "      <td>1.711087e+00</td>\n",
       "      <td>4.000000e+00</td>\n",
       "    </tr>\n",
       "    <tr>\n",
       "      <th>relationships</th>\n",
       "      <td>6.000000e+00</td>\n",
       "      <td>1.200000e+01</td>\n",
       "      <td>1.400000e+01</td>\n",
       "      <td>1.000000e+00</td>\n",
       "      <td>9.000000e+00</td>\n",
       "    </tr>\n",
       "  </tbody>\n",
       "</table>\n",
       "</div>"
      ],
      "text/plain": [
       "                            c:10         c:100        c:1001       c:10012  \\\n",
       "investment_rounds   3.322857e+00  3.322857e+00  3.322857e+00  3.322857e+00   \n",
       "invested_companies  2.860000e+00  2.860000e+00  2.860000e+00  2.860000e+00   \n",
       "funding_rounds      1.750383e+00  1.750383e+00  1.000000e+00  1.750383e+00   \n",
       "funding_total_usd   2.504158e+07  2.504158e+07  5.000000e+06  2.504158e+07   \n",
       "milestones          1.711087e+00  4.000000e+00  3.000000e+00  1.711087e+00   \n",
       "relationships       6.000000e+00  1.200000e+01  1.400000e+01  1.000000e+00   \n",
       "\n",
       "                         c:10014  \n",
       "investment_rounds   3.322857e+00  \n",
       "invested_companies  2.860000e+00  \n",
       "funding_rounds      1.000000e+00  \n",
       "funding_total_usd   2.504158e+07  \n",
       "milestones          4.000000e+00  \n",
       "relationships       9.000000e+00  "
      ]
     },
     "execution_count": 12,
     "metadata": {},
     "output_type": "execute_result"
    }
   ],
   "source": [
    "df_num.head().T"
   ]
  },
  {
   "cell_type": "code",
   "execution_count": 28,
   "metadata": {},
   "outputs": [
    {
     "data": {
      "text/plain": [
       "13452"
      ]
     },
     "execution_count": 28,
     "metadata": {},
     "output_type": "execute_result"
    }
   ],
   "source": [
    "len(target)"
   ]
  },
  {
   "cell_type": "code",
   "execution_count": 29,
   "metadata": {},
   "outputs": [
    {
     "data": {
      "text/plain": [
       "13452"
      ]
     },
     "execution_count": 29,
     "metadata": {},
     "output_type": "execute_result"
    }
   ],
   "source": [
    "len(df_num)"
   ]
  },
  {
   "cell_type": "code",
   "execution_count": 13,
   "metadata": {},
   "outputs": [],
   "source": [
    "from sklearn.ensemble import RandomForestClassifier"
   ]
  },
  {
   "cell_type": "code",
   "execution_count": 14,
   "metadata": {},
   "outputs": [],
   "source": [
    "clf = RandomForestClassifier(max_depth=5, random_state=0, class_weight='balanced')"
   ]
  },
  {
   "cell_type": "code",
   "execution_count": 15,
   "metadata": {},
   "outputs": [],
   "source": [
    "model = clf.fit(df_num.values, target.values)\n"
   ]
  },
  {
   "cell_type": "code",
   "execution_count": 16,
   "metadata": {},
   "outputs": [
    {
     "data": {
      "text/plain": [
       "['investment_rounds',\n",
       " 'invested_companies',\n",
       " 'funding_rounds',\n",
       " 'funding_total_usd',\n",
       " 'milestones',\n",
       " 'relationships']"
      ]
     },
     "execution_count": 16,
     "metadata": {},
     "output_type": "execute_result"
    }
   ],
   "source": [
    "list(df_num.columns)"
   ]
  },
  {
   "cell_type": "code",
   "execution_count": 17,
   "metadata": {},
   "outputs": [
    {
     "data": {
      "text/plain": [
       "[(0.002363850252670662, 'investment_rounds'),\n",
       " (0.008003697991858188, 'invested_companies'),\n",
       " (0.4999623980284392, 'funding_rounds'),\n",
       " (0.33413586235932397, 'funding_total_usd'),\n",
       " (0.04077631639043312, 'milestones'),\n",
       " (0.11475787497727483, 'relationships')]"
      ]
     },
     "execution_count": 17,
     "metadata": {},
     "output_type": "execute_result"
    }
   ],
   "source": [
    "list(zip(model.feature_importances_, list(df_num.columns)))"
   ]
  },
  {
   "cell_type": "code",
   "execution_count": 18,
   "metadata": {},
   "outputs": [],
   "source": [
    "y_hat = model.predict(df_num.values)"
   ]
  },
  {
   "cell_type": "code",
   "execution_count": 19,
   "metadata": {},
   "outputs": [],
   "source": [
    "y_hat_p= np.array(list(list(zip(* model.predict_proba(df_num.values)))[0]))"
   ]
  },
  {
   "cell_type": "code",
   "execution_count": 20,
   "metadata": {},
   "outputs": [],
   "source": [
    "from sklearn import metrics"
   ]
  },
  {
   "cell_type": "code",
   "execution_count": 21,
   "metadata": {},
   "outputs": [],
   "source": [
    "fpr, tpr, thresholds = metrics.roc_curve(target, y_hat_p)"
   ]
  },
  {
   "cell_type": "code",
   "execution_count": 22,
   "metadata": {},
   "outputs": [
    {
     "data": {
      "image/png": "[encoded data removed]",
      "text/plain": [
       "<matplotlib.figure.Figure at 0x10e144d68>"
      ]
     },
     "metadata": {},
     "output_type": "display_data"
    }
   ],
   "source": [
    "plt.plot(thresholds, fpr);\n",
    "plt.plot(thresholds, tpr);"
   ]
  },
  {
   "cell_type": "code",
   "execution_count": 23,
   "metadata": {},
   "outputs": [
    {
     "data": {
      "image/png": "[encoded data removed]",
      "text/plain": [
       "<matplotlib.figure.Figure at 0x10cc8c080>"
      ]
     },
     "metadata": {},
     "output_type": "display_data"
    }
   ],
   "source": [
    "plt.plot(thresholds, tpr);"
   ]
  },
  {
   "cell_type": "code",
   "execution_count": 24,
   "metadata": {},
   "outputs": [
    {
     "data": {
      "image/png": "[encoded data removed]",
      "text/plain": [
       "<matplotlib.figure.Figure at 0x1183e2c18>"
      ]
     },
     "metadata": {},
     "output_type": "display_data"
    }
   ],
   "source": [
    "plt.plot(tpr,fpr);"
   ]
  },
  {
   "cell_type": "code",
   "execution_count": 25,
   "metadata": {},
   "outputs": [
    {
     "data": {
      "text/plain": [
       "1    0.79386\n",
       "0    0.20614\n",
       "dtype: float64"
      ]
     },
     "execution_count": 25,
     "metadata": {},
     "output_type": "execute_result"
    }
   ],
   "source": [
    "target.value_counts(1)"
   ]
  },
  {
   "cell_type": "code",
   "execution_count": 26,
   "metadata": {},
   "outputs": [
    {
     "data": {
      "text/plain": [
       "0    13452\n",
       "dtype: int64"
      ]
     },
     "execution_count": 26,
     "metadata": {},
     "output_type": "execute_result"
    }
   ],
   "source": [
    "pd.DataFrame(y_hat).count()"
   ]
  },
  {
   "cell_type": "code",
   "execution_count": 27,
   "metadata": {},
   "outputs": [],
   "source": [
    "from sklearn.metrics import precision_score, recall_score, confusion_matrix, f1_score"
   ]
  },
  {
   "cell_type": "code",
   "execution_count": 84,
   "metadata": {},
   "outputs": [
    {
     "data": {
      "text/plain": [
       "(array([0.        , 0.01010101, 0.02020202, 0.03030303, 0.04040404,\n",
       "        0.05050505, 0.06060606, 0.07070707, 0.08080808, 0.09090909,\n",
       "        0.1010101 , 0.11111111, 0.12121212, 0.13131313, 0.14141414,\n",
       "        0.15151515, 0.16161616, 0.17171717, 0.18181818, 0.19191919,\n",
       "        0.2020202 , 0.21212121, 0.22222222, 0.23232323, 0.24242424,\n",
       "        0.25252525, 0.26262626, 0.27272727, 0.28282828, 0.29292929,\n",
       "        0.3030303 , 0.31313131, 0.32323232, 0.33333333, 0.34343434,\n",
       "        0.35353535, 0.36363636, 0.37373737, 0.38383838, 0.39393939,\n",
       "        0.4040404 , 0.41414141, 0.42424242, 0.43434343, 0.44444444,\n",
       "        0.45454545, 0.46464646, 0.47474747, 0.48484848, 0.49494949,\n",
       "        0.50505051, 0.51515152, 0.52525253, 0.53535354, 0.54545455,\n",
       "        0.55555556, 0.56565657, 0.57575758, 0.58585859, 0.5959596 ,\n",
       "        0.60606061, 0.61616162, 0.62626263, 0.63636364, 0.64646465,\n",
       "        0.65656566, 0.66666667, 0.67676768, 0.68686869, 0.6969697 ,\n",
       "        0.70707071, 0.71717172, 0.72727273, 0.73737374, 0.74747475,\n",
       "        0.75757576, 0.76767677, 0.77777778, 0.78787879, 0.7979798 ,\n",
       "        0.80808081, 0.81818182, 0.82828283, 0.83838384, 0.84848485,\n",
       "        0.85858586, 0.86868687, 0.87878788, 0.88888889, 0.8989899 ,\n",
       "        0.90909091, 0.91919192, 0.92929293, 0.93939394, 0.94949495,\n",
       "        0.95959596, 0.96969697, 0.97979798, 0.98989899, 1.        ]),\n",
       " array([0.88508557, 0.86341873, 0.86341873, 0.86341873, 0.86341873,\n",
       "        0.86341873, 0.86341873, 0.86341873, 0.86341873, 0.86341873,\n",
       "        0.86341873, 0.86341873, 0.86341873, 0.86341873, 0.86341873,\n",
       "        0.86341873, 0.86341873, 0.86341873, 0.86341873, 0.86341873,\n",
       "        0.86341873, 0.86341873, 0.86341873, 0.86341873, 0.86341873,\n",
       "        0.86341873, 0.86341873, 0.86341873, 0.86341873, 0.86341873,\n",
       "        0.86341873, 0.86341873, 0.86341873, 0.86341873, 0.86341873,\n",
       "        0.86341873, 0.86341873, 0.86341873, 0.86341873, 0.86341873,\n",
       "        0.86341873, 0.86341873, 0.86341873, 0.86341873, 0.86341873,\n",
       "        0.86341873, 0.86341873, 0.86341873, 0.86341873, 0.86341873,\n",
       "        0.86341873, 0.86341873, 0.86341873, 0.86341873, 0.86341873,\n",
       "        0.86341873, 0.86341873, 0.86341873, 0.86341873, 0.86341873,\n",
       "        0.86341873, 0.86341873, 0.86341873, 0.86341873, 0.86341873,\n",
       "        0.86341873, 0.86341873, 0.86341873, 0.86341873, 0.86341873,\n",
       "        0.86341873, 0.86341873, 0.86341873, 0.86341873, 0.86341873,\n",
       "        0.86341873, 0.86341873, 0.86341873, 0.86341873, 0.86341873,\n",
       "        0.86341873, 0.86341873, 0.86341873, 0.86341873, 0.86341873,\n",
       "        0.86341873, 0.86341873, 0.86341873, 0.86341873, 0.86341873,\n",
       "        0.86341873, 0.86341873, 0.86341873, 0.86341873, 0.86341873,\n",
       "        0.86341873, 0.86341873, 0.86341873, 0.86341873, 0.86341873]))"
      ]
     },
     "execution_count": 84,
     "metadata": {},
     "output_type": "execute_result"
    }
   ],
   "source": [
    "def my_roc_curve(y_true, y_pred):\n",
    "    xaxis= np.linspace(0, 1, 100)\n",
    "    result = np.zeros(xaxis.shape)\n",
    "    \n",
    "    for i,x in enumerate(xaxis):\n",
    "        y_pred2 = y_pred.copy()\n",
    "        y_pred2[(y_pred2 >= x)] = 1\n",
    "        y_pred2[(y_pred2 < x)] = 0\n",
    "        result[i] = f1_score(target,y_pred2)\n",
    "    return (xaxis, result)\n",
    "my_roc_curve(target, y_hat)\n",
    "      "
   ]
  },
  {
   "cell_type": "code",
   "execution_count": 85,
   "metadata": {},
   "outputs": [
    {
     "data": {
      "text/plain": [
       "0.863418727479145"
      ]
     },
     "execution_count": 85,
     "metadata": {},
     "output_type": "execute_result"
    }
   ],
   "source": [
    "f1_score(target,y_hat)"
   ]
  },
  {
   "cell_type": "code",
   "execution_count": 86,
   "metadata": {},
   "outputs": [
    {
     "data": {
      "text/plain": [
       "0.8189905421855979"
      ]
     },
     "execution_count": 86,
     "metadata": {},
     "output_type": "execute_result"
    }
   ],
   "source": [
    "recall_score(target,y_hat)"
   ]
  },
  {
   "cell_type": "code",
   "execution_count": 87,
   "metadata": {},
   "outputs": [
    {
     "data": {
      "text/plain": [
       "0.9129436325678497"
      ]
     },
     "execution_count": 87,
     "metadata": {},
     "output_type": "execute_result"
    }
   ],
   "source": [
    "precision_score(target, y_hat)"
   ]
  },
  {
   "cell_type": "code",
   "execution_count": 94,
   "metadata": {},
   "outputs": [],
   "source": [
    "correct = df_joined[ (y_hat == 1) & (target == 1)]"
   ]
  },
  {
   "cell_type": "code",
   "execution_count": 95,
   "metadata": {},
   "outputs": [
    {
     "data": {
      "text/plain": [
       "acquired    7812\n",
       "ipo          934\n",
       "Name: status, dtype: int64"
      ]
     },
     "execution_count": 95,
     "metadata": {},
     "output_type": "execute_result"
    }
   ],
   "source": [
    "correct.status.value_counts()"
   ]
  },
  {
   "cell_type": "code",
   "execution_count": 96,
   "metadata": {},
   "outputs": [
    {
     "data": {
      "text/plain": [
       "array([[1939,  834],\n",
       "       [1933, 8746]])"
      ]
     },
     "execution_count": 96,
     "metadata": {},
     "output_type": "execute_result"
    }
   ],
   "source": [
    "confusion_matrix(target,y_hat)"
   ]
  },
  {
   "cell_type": "code",
   "execution_count": 97,
   "metadata": {},
   "outputs": [],
   "source": [
    " from sklearn.metrics import f1_score"
   ]
  },
  {
   "cell_type": "code",
   "execution_count": 98,
   "metadata": {},
   "outputs": [
    {
     "name": "stdout",
     "output_type": "stream",
     "text": [
      "[[14.4142135   6.19982159]\n",
      " [14.36961047 65.01635445]]\n",
      "[[ -14.4142135     0.        ]\n",
      " [   0.         6501.63544454]]\n",
      "6487.221231043712\n"
     ]
    }
   ],
   "source": [
    "def confusion_matrix_percent(target, y_hat):\n",
    "    vc_Structure = np.array([[-1,0],[0,100]])\n",
    "    result = confusion_matrix(target,y_hat) / len(target) * 100\n",
    "    print(result)\n",
    "    print(result * vc_Structure)\n",
    "    print(np.sum(result * vc_Structure))\n",
    "    \n",
    "confusion_matrix_percent(target,y_hat)"
   ]
  },
  {
   "cell_type": "code",
   "execution_count": null,
   "metadata": {},
   "outputs": [],
   "source": [
    "df_investments['created_at'].sort_values()"
   ]
  },
  {
   "cell_type": "markdown",
   "metadata": {},
   "source": [
    "the information was collected between May 2007 and and December 2013"
   ]
  }
 ],
 "metadata": {
  "kernelspec": {
   "display_name": "Python 3",
   "language": "python",
   "name": "python3"
  },
  "language_info": {
   "codemirror_mode": {
    "name": "ipython",
    "version": 3
   },
   "file_extension": ".py",
   "mimetype": "text/x-python",
   "name": "python",
   "nbconvert_exporter": "python",
   "pygments_lexer": "ipython3",
   "version": "3.6.4"
  }
 },
 "nbformat": 4,
 "nbformat_minor": 2
}
