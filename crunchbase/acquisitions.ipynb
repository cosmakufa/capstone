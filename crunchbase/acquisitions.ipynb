{
 "cells": [
  {
   "cell_type": "code",
   "execution_count": 1,
   "metadata": {},
   "outputs": [],
   "source": [
    "import pandas as pd\n",
    "import matplotlib.pyplot as plt\n",
    "%matplotlib inline\n"
   ]
  },
  {
   "cell_type": "code",
   "execution_count": 11,
   "metadata": {},
   "outputs": [],
   "source": [
    "df_acquisitions = pd.read_csv('data/cb_acquisitions.csv', parse_dates=['acquired_at'])"
   ]
  },
  {
   "cell_type": "code",
   "execution_count": 12,
   "metadata": {},
   "outputs": [
    {
     "data": {
      "text/html": [
       "<div>\n",
       "<style scoped>\n",
       "    .dataframe tbody tr th:only-of-type {\n",
       "        vertical-align: middle;\n",
       "    }\n",
       "\n",
       "    .dataframe tbody tr th {\n",
       "        vertical-align: top;\n",
       "    }\n",
       "\n",
       "    .dataframe thead th {\n",
       "        text-align: right;\n",
       "    }\n",
       "</style>\n",
       "<table border=\"1\" class=\"dataframe\">\n",
       "  <thead>\n",
       "    <tr style=\"text-align: right;\">\n",
       "      <th></th>\n",
       "      <th>0</th>\n",
       "      <th>1</th>\n",
       "      <th>2</th>\n",
       "      <th>3</th>\n",
       "      <th>4</th>\n",
       "    </tr>\n",
       "  </thead>\n",
       "  <tbody>\n",
       "    <tr>\n",
       "      <th>id</th>\n",
       "      <td>1</td>\n",
       "      <td>2</td>\n",
       "      <td>3</td>\n",
       "      <td>4</td>\n",
       "      <td>5</td>\n",
       "    </tr>\n",
       "    <tr>\n",
       "      <th>acquisition_id</th>\n",
       "      <td>1</td>\n",
       "      <td>7</td>\n",
       "      <td>8</td>\n",
       "      <td>9</td>\n",
       "      <td>10</td>\n",
       "    </tr>\n",
       "    <tr>\n",
       "      <th>acquiring_object_id</th>\n",
       "      <td>c:11</td>\n",
       "      <td>c:59</td>\n",
       "      <td>c:24</td>\n",
       "      <td>c:59</td>\n",
       "      <td>c:212</td>\n",
       "    </tr>\n",
       "    <tr>\n",
       "      <th>acquired_object_id</th>\n",
       "      <td>c:10</td>\n",
       "      <td>c:72</td>\n",
       "      <td>c:132</td>\n",
       "      <td>c:155</td>\n",
       "      <td>c:215</td>\n",
       "    </tr>\n",
       "    <tr>\n",
       "      <th>term_code</th>\n",
       "      <td>NaN</td>\n",
       "      <td>cash</td>\n",
       "      <td>cash</td>\n",
       "      <td>cash</td>\n",
       "      <td>cash</td>\n",
       "    </tr>\n",
       "    <tr>\n",
       "      <th>price_amount</th>\n",
       "      <td>2e+07</td>\n",
       "      <td>6e+07</td>\n",
       "      <td>2.8e+08</td>\n",
       "      <td>1e+08</td>\n",
       "      <td>2.5e+07</td>\n",
       "    </tr>\n",
       "    <tr>\n",
       "      <th>price_currency_code</th>\n",
       "      <td>USD</td>\n",
       "      <td>USD</td>\n",
       "      <td>USD</td>\n",
       "      <td>USD</td>\n",
       "      <td>USD</td>\n",
       "    </tr>\n",
       "    <tr>\n",
       "      <th>acquired_at</th>\n",
       "      <td>2007-05-30 00:00:00</td>\n",
       "      <td>2007-07-01 00:00:00</td>\n",
       "      <td>2007-05-01 00:00:00</td>\n",
       "      <td>2007-06-01 00:00:00</td>\n",
       "      <td>2007-07-01 00:00:00</td>\n",
       "    </tr>\n",
       "    <tr>\n",
       "      <th>source_url</th>\n",
       "      <td>http://venturebeat.com/2007/05/30/fox-interact...</td>\n",
       "      <td>http://www.techcrunch.com/2007/07/02/deal-is-c...</td>\n",
       "      <td>http://www.techcrunch.com/2007/05/30/cbs-acqui...</td>\n",
       "      <td>http://techcrunch.com/2007/05/23/100-million-p...</td>\n",
       "      <td>http://blog.seattlepi.nwsource.com/venture/arc...</td>\n",
       "    </tr>\n",
       "    <tr>\n",
       "      <th>source_description</th>\n",
       "      <td>Fox Interactive confirms purchase of Photobuck...</td>\n",
       "      <td>Deal is Confirmed: Google Acquired GrandCentral</td>\n",
       "      <td>CBS Acquires Europeâ€™s Last.fm for $280 million</td>\n",
       "      <td>$100 Million Payday For Feedburner – This Deal...</td>\n",
       "      <td>seatlepi.com</td>\n",
       "    </tr>\n",
       "    <tr>\n",
       "      <th>created_at</th>\n",
       "      <td>2007-05-31 22:19:54</td>\n",
       "      <td>2007-07-03 08:14:50</td>\n",
       "      <td>2007-07-12 04:19:24</td>\n",
       "      <td>2007-07-13 09:52:59</td>\n",
       "      <td>2007-07-20 05:29:07</td>\n",
       "    </tr>\n",
       "    <tr>\n",
       "      <th>updated_at</th>\n",
       "      <td>2008-05-21 19:23:44</td>\n",
       "      <td>2011-05-06 21:51:05</td>\n",
       "      <td>2008-05-19 04:48:50</td>\n",
       "      <td>2012-06-05 03:22:17</td>\n",
       "      <td>2008-02-25 00:23:47</td>\n",
       "    </tr>\n",
       "  </tbody>\n",
       "</table>\n",
       "</div>"
      ],
      "text/plain": [
       "                                                                     0  \\\n",
       "id                                                                   1   \n",
       "acquisition_id                                                       1   \n",
       "acquiring_object_id                                               c:11   \n",
       "acquired_object_id                                                c:10   \n",
       "term_code                                                          NaN   \n",
       "price_amount                                                     2e+07   \n",
       "price_currency_code                                                USD   \n",
       "acquired_at                                        2007-05-30 00:00:00   \n",
       "source_url           http://venturebeat.com/2007/05/30/fox-interact...   \n",
       "source_description   Fox Interactive confirms purchase of Photobuck...   \n",
       "created_at                                         2007-05-31 22:19:54   \n",
       "updated_at                                         2008-05-21 19:23:44   \n",
       "\n",
       "                                                                     1  \\\n",
       "id                                                                   2   \n",
       "acquisition_id                                                       7   \n",
       "acquiring_object_id                                               c:59   \n",
       "acquired_object_id                                                c:72   \n",
       "term_code                                                         cash   \n",
       "price_amount                                                     6e+07   \n",
       "price_currency_code                                                USD   \n",
       "acquired_at                                        2007-07-01 00:00:00   \n",
       "source_url           http://www.techcrunch.com/2007/07/02/deal-is-c...   \n",
       "source_description     Deal is Confirmed: Google Acquired GrandCentral   \n",
       "created_at                                         2007-07-03 08:14:50   \n",
       "updated_at                                         2011-05-06 21:51:05   \n",
       "\n",
       "                                                                     2  \\\n",
       "id                                                                   3   \n",
       "acquisition_id                                                       8   \n",
       "acquiring_object_id                                               c:24   \n",
       "acquired_object_id                                               c:132   \n",
       "term_code                                                         cash   \n",
       "price_amount                                                   2.8e+08   \n",
       "price_currency_code                                                USD   \n",
       "acquired_at                                        2007-05-01 00:00:00   \n",
       "source_url           http://www.techcrunch.com/2007/05/30/cbs-acqui...   \n",
       "source_description    CBS Acquires Europeâ€™s Last.fm for $280 million   \n",
       "created_at                                         2007-07-12 04:19:24   \n",
       "updated_at                                         2008-05-19 04:48:50   \n",
       "\n",
       "                                                                     3  \\\n",
       "id                                                                   4   \n",
       "acquisition_id                                                       9   \n",
       "acquiring_object_id                                               c:59   \n",
       "acquired_object_id                                               c:155   \n",
       "term_code                                                         cash   \n",
       "price_amount                                                     1e+08   \n",
       "price_currency_code                                                USD   \n",
       "acquired_at                                        2007-06-01 00:00:00   \n",
       "source_url           http://techcrunch.com/2007/05/23/100-million-p...   \n",
       "source_description   $100 Million Payday For Feedburner – This Deal...   \n",
       "created_at                                         2007-07-13 09:52:59   \n",
       "updated_at                                         2012-06-05 03:22:17   \n",
       "\n",
       "                                                                     4  \n",
       "id                                                                   5  \n",
       "acquisition_id                                                      10  \n",
       "acquiring_object_id                                              c:212  \n",
       "acquired_object_id                                               c:215  \n",
       "term_code                                                         cash  \n",
       "price_amount                                                   2.5e+07  \n",
       "price_currency_code                                                USD  \n",
       "acquired_at                                        2007-07-01 00:00:00  \n",
       "source_url           http://blog.seattlepi.nwsource.com/venture/arc...  \n",
       "source_description                                        seatlepi.com  \n",
       "created_at                                         2007-07-20 05:29:07  \n",
       "updated_at                                         2008-02-25 00:23:47  "
      ]
     },
     "execution_count": 12,
     "metadata": {},
     "output_type": "execute_result"
    }
   ],
   "source": [
    "df_acquisitions.head().T"
   ]
  },
  {
   "cell_type": "code",
   "execution_count": 13,
   "metadata": {},
   "outputs": [
    {
     "name": "stdout",
     "output_type": "stream",
     "text": [
      "<class 'pandas.core.frame.DataFrame'>\n",
      "RangeIndex: 9562 entries, 0 to 9561\n",
      "Data columns (total 12 columns):\n",
      "id                     9562 non-null int64\n",
      "acquisition_id         9562 non-null int64\n",
      "acquiring_object_id    9562 non-null object\n",
      "acquired_object_id     9561 non-null object\n",
      "term_code              1906 non-null object\n",
      "price_amount           2601 non-null float64\n",
      "price_currency_code    9558 non-null object\n",
      "acquired_at            9533 non-null datetime64[ns]\n",
      "source_url             8566 non-null object\n",
      "source_description     8590 non-null object\n",
      "created_at             9562 non-null object\n",
      "updated_at             9562 non-null object\n",
      "dtypes: datetime64[ns](1), float64(1), int64(2), object(8)\n",
      "memory usage: 896.5+ KB\n"
     ]
    }
   ],
   "source": [
    "df_acquisitions.info()"
   ]
  },
  {
   "cell_type": "markdown",
   "metadata": {},
   "source": [
    "interesting to note is that in the investment data we found that we had information about 17000 companies and this dataset gives us information about 95662  companies. from this we can speculate to say only 1 in 10 companies that recieve funding end up getting acquired. Thus our dataset is going to be imbalanced and we should take that into account when developing our models"
   ]
  },
  {
   "cell_type": "code",
   "execution_count": 15,
   "metadata": {},
   "outputs": [],
   "source": [
    "df_acquisitions['month'] = df_acquisitions['acquired_at'].apply(lambda x: x.month)"
   ]
  },
  {
   "cell_type": "code",
   "execution_count": 16,
   "metadata": {},
   "outputs": [],
   "source": [
    "df_acquisitions['year'] = df_acquisitions['acquired_at'].apply(lambda x: x.year)"
   ]
  },
  {
   "cell_type": "code",
   "execution_count": 17,
   "metadata": {},
   "outputs": [
    {
     "data": {
      "image/png": "[encoded data removed]",
      "text/plain": [
       "<matplotlib.figure.Figure at 0x115c182b0>"
      ]
     },
     "metadata": {},
     "output_type": "display_data"
    }
   ],
   "source": [
    "df_acquisitions.groupby(['year']).count()['id'].plot(kind=\"bar\", figsize=(20,10));"
   ]
  },
  {
   "cell_type": "markdown",
   "metadata": {},
   "source": [
    "we have information about companies from 1966 to 2013. form the bar graph aboue it shows that the number of companies getting acquired has been exponentially increasing over time, but seems to have reached a plateau sincethe peak of 2011. again we notice the 2007 recession had no impact on acquisitions. although it seems to have been affected during the dot com burst and no meaningful amount of acquisitions prior to that."
   ]
  },
  {
   "cell_type": "code",
   "execution_count": 18,
   "metadata": {},
   "outputs": [
    {
     "data": {
      "text/plain": [
       "array([nan, 'cash', 'stock', 'cash_and_stock'], dtype=object)"
      ]
     },
     "execution_count": 18,
     "metadata": {},
     "output_type": "execute_result"
    }
   ],
   "source": [
    "df_acquisitions['term_code'].unique()"
   ]
  },
  {
   "cell_type": "code",
   "execution_count": null,
   "metadata": {},
   "outputs": [],
   "source": []
  }
 ],
 "metadata": {
  "kernelspec": {
   "display_name": "Python 3",
   "language": "python",
   "name": "python3"
  },
  "language_info": {
   "codemirror_mode": {
    "name": "ipython",
    "version": 3
   },
   "file_extension": ".py",
   "mimetype": "text/x-python",
   "name": "python",
   "nbconvert_exporter": "python",
   "pygments_lexer": "ipython3",
   "version": "3.6.4"
  }
 },
 "nbformat": 4,
 "nbformat_minor": 2
}
